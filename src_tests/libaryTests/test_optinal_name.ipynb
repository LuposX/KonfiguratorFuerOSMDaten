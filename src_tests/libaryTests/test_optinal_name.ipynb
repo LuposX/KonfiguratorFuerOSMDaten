{
 "cells": [
  {
   "cell_type": "code",
   "execution_count": 63,
   "id": "a4425b8c-b943-4d8e-b3e7-3fc4a1b70f9b",
   "metadata": {},
   "outputs": [],
   "source": [
    "import shapely.geometry\n",
    "import geopandas as gpd\n",
    "\n",
    "import numpy as np"
   ]
  },
  {
   "cell_type": "code",
   "execution_count": 64,
   "id": "1bba5817-7494-4803-b455-4587b0a625d3",
   "metadata": {},
   "outputs": [
    {
     "data": {
      "text/html": [
       "<div>\n",
       "<style scoped>\n",
       "    .dataframe tbody tr th:only-of-type {\n",
       "        vertical-align: middle;\n",
       "    }\n",
       "\n",
       "    .dataframe tbody tr th {\n",
       "        vertical-align: top;\n",
       "    }\n",
       "\n",
       "    .dataframe thead th {\n",
       "        text-align: right;\n",
       "    }\n",
       "</style>\n",
       "<table border=\"1\" class=\"dataframe\">\n",
       "  <thead>\n",
       "    <tr style=\"text-align: right;\">\n",
       "      <th></th>\n",
       "      <th>geometry</th>\n",
       "    </tr>\n",
       "  </thead>\n",
       "  <tbody>\n",
       "    <tr>\n",
       "      <th>0</th>\n",
       "      <td>POLYGON ((13.23704 52.59549, 13.17649 52.56324...</td>\n",
       "    </tr>\n",
       "    <tr>\n",
       "      <th>1</th>\n",
       "      <td>POLYGON ((13.31454 52.58959, 13.33837 52.51526...</td>\n",
       "    </tr>\n",
       "    <tr>\n",
       "      <th>2</th>\n",
       "      <td>POLYGON ((13.51302 52.57112, 13.46440 52.55958...</td>\n",
       "    </tr>\n",
       "    <tr>\n",
       "      <th>3</th>\n",
       "      <td>POLYGON ((13.18972 52.49950, 13.13450 52.45944...</td>\n",
       "    </tr>\n",
       "    <tr>\n",
       "      <th>4</th>\n",
       "      <td>POLYGON ((13.32353 52.52612, 13.26636 52.48427...</td>\n",
       "    </tr>\n",
       "    <tr>\n",
       "      <th>5</th>\n",
       "      <td>POLYGON ((13.52412 52.57244, 13.55260 52.55127...</td>\n",
       "    </tr>\n",
       "    <tr>\n",
       "      <th>6</th>\n",
       "      <td>POLYGON ((13.59221 52.49677, 13.48497 52.42125...</td>\n",
       "    </tr>\n",
       "    <tr>\n",
       "      <th>7</th>\n",
       "      <td>POLYGON ((13.64111 52.46174, 13.67090 52.43806...</td>\n",
       "    </tr>\n",
       "    <tr>\n",
       "      <th>8</th>\n",
       "      <td>POLYGON ((13.39410 52.45710, 13.40917 52.44218...</td>\n",
       "    </tr>\n",
       "  </tbody>\n",
       "</table>\n",
       "</div>"
      ],
      "text/plain": [
       "                                            geometry\n",
       "0  POLYGON ((13.23704 52.59549, 13.17649 52.56324...\n",
       "1  POLYGON ((13.31454 52.58959, 13.33837 52.51526...\n",
       "2  POLYGON ((13.51302 52.57112, 13.46440 52.55958...\n",
       "3  POLYGON ((13.18972 52.49950, 13.13450 52.45944...\n",
       "4  POLYGON ((13.32353 52.52612, 13.26636 52.48427...\n",
       "5  POLYGON ((13.52412 52.57244, 13.55260 52.55127...\n",
       "6  POLYGON ((13.59221 52.49677, 13.48497 52.42125...\n",
       "7  POLYGON ((13.64111 52.46174, 13.67090 52.43806...\n",
       "8  POLYGON ((13.39410 52.45710, 13.40917 52.44218..."
      ]
     },
     "execution_count": 64,
     "metadata": {},
     "output_type": "execute_result"
    }
   ],
   "source": [
    "df = gpd.read_file(\"../data/berlin-regions.geojson\")\n",
    "df"
   ]
  },
  {
   "cell_type": "code",
   "execution_count": 65,
   "id": "68ebc504-846c-4393-947a-5b5ebf3047d8",
   "metadata": {},
   "outputs": [
    {
     "data": {
      "text/plain": [
       "False"
      ]
     },
     "execution_count": 65,
     "metadata": {},
     "output_type": "execute_result"
    }
   ],
   "source": [
    "'traffic_cell_name' in df.columns"
   ]
  },
  {
   "cell_type": "code",
   "execution_count": 66,
   "id": "1e57b897-d9d9-471d-ba9d-cd6bbafa2dd8",
   "metadata": {},
   "outputs": [],
   "source": [
    "traffic_cell_name = []\n",
    "if 'traffic_cell_name' in df.columns:\n",
    "    for idx, row in df.iterrows():\n",
    "        if row['traffic_cell_name'] == None:\n",
    "            traffic_cell_name.append(str(idx) + '_traffic_cell')\n",
    "        else:\n",
    "            traffic_cell_name.append(str(idx) + \"_\" + str(row['traffic_cell_name']))\n",
    "else:\n",
    "    for idx, row in df.iterrows():\n",
    "        traffic_cell_name.append(str(idx) + '_traffic_cell')"
   ]
  },
  {
   "cell_type": "code",
   "execution_count": 67,
   "id": "b2bd2e67-b1e5-4019-933e-77f5f4fc60f0",
   "metadata": {},
   "outputs": [
    {
     "data": {
      "text/plain": [
       "9"
      ]
     },
     "execution_count": 67,
     "metadata": {},
     "output_type": "execute_result"
    }
   ],
   "source": [
    "len(traffic_cell_name)"
   ]
  },
  {
   "cell_type": "code",
   "execution_count": 68,
   "id": "1ab1de28-fc59-4a52-971d-6a0551940672",
   "metadata": {},
   "outputs": [],
   "source": [
    "df['traffic_cell_name'] = traffic_cell_name"
   ]
  },
  {
   "cell_type": "code",
   "execution_count": 69,
   "id": "d09fde96-b38f-4310-9cb2-408133e87da0",
   "metadata": {},
   "outputs": [
    {
     "data": {
      "text/html": [
       "<div>\n",
       "<style scoped>\n",
       "    .dataframe tbody tr th:only-of-type {\n",
       "        vertical-align: middle;\n",
       "    }\n",
       "\n",
       "    .dataframe tbody tr th {\n",
       "        vertical-align: top;\n",
       "    }\n",
       "\n",
       "    .dataframe thead th {\n",
       "        text-align: right;\n",
       "    }\n",
       "</style>\n",
       "<table border=\"1\" class=\"dataframe\">\n",
       "  <thead>\n",
       "    <tr style=\"text-align: right;\">\n",
       "      <th></th>\n",
       "      <th>geometry</th>\n",
       "      <th>traffic_cell_name</th>\n",
       "    </tr>\n",
       "  </thead>\n",
       "  <tbody>\n",
       "    <tr>\n",
       "      <th>0</th>\n",
       "      <td>POLYGON ((13.23704 52.59549, 13.17649 52.56324...</td>\n",
       "      <td>0_traffic_cell</td>\n",
       "    </tr>\n",
       "    <tr>\n",
       "      <th>1</th>\n",
       "      <td>POLYGON ((13.31454 52.58959, 13.33837 52.51526...</td>\n",
       "      <td>1_traffic_cell</td>\n",
       "    </tr>\n",
       "    <tr>\n",
       "      <th>2</th>\n",
       "      <td>POLYGON ((13.51302 52.57112, 13.46440 52.55958...</td>\n",
       "      <td>2_traffic_cell</td>\n",
       "    </tr>\n",
       "    <tr>\n",
       "      <th>3</th>\n",
       "      <td>POLYGON ((13.18972 52.49950, 13.13450 52.45944...</td>\n",
       "      <td>3_traffic_cell</td>\n",
       "    </tr>\n",
       "    <tr>\n",
       "      <th>4</th>\n",
       "      <td>POLYGON ((13.32353 52.52612, 13.26636 52.48427...</td>\n",
       "      <td>4_traffic_cell</td>\n",
       "    </tr>\n",
       "    <tr>\n",
       "      <th>5</th>\n",
       "      <td>POLYGON ((13.52412 52.57244, 13.55260 52.55127...</td>\n",
       "      <td>5_traffic_cell</td>\n",
       "    </tr>\n",
       "    <tr>\n",
       "      <th>6</th>\n",
       "      <td>POLYGON ((13.59221 52.49677, 13.48497 52.42125...</td>\n",
       "      <td>6_traffic_cell</td>\n",
       "    </tr>\n",
       "    <tr>\n",
       "      <th>7</th>\n",
       "      <td>POLYGON ((13.64111 52.46174, 13.67090 52.43806...</td>\n",
       "      <td>7_traffic_cell</td>\n",
       "    </tr>\n",
       "    <tr>\n",
       "      <th>8</th>\n",
       "      <td>POLYGON ((13.39410 52.45710, 13.40917 52.44218...</td>\n",
       "      <td>8_traffic_cell</td>\n",
       "    </tr>\n",
       "  </tbody>\n",
       "</table>\n",
       "</div>"
      ],
      "text/plain": [
       "                                            geometry traffic_cell_name\n",
       "0  POLYGON ((13.23704 52.59549, 13.17649 52.56324...    0_traffic_cell\n",
       "1  POLYGON ((13.31454 52.58959, 13.33837 52.51526...    1_traffic_cell\n",
       "2  POLYGON ((13.51302 52.57112, 13.46440 52.55958...    2_traffic_cell\n",
       "3  POLYGON ((13.18972 52.49950, 13.13450 52.45944...    3_traffic_cell\n",
       "4  POLYGON ((13.32353 52.52612, 13.26636 52.48427...    4_traffic_cell\n",
       "5  POLYGON ((13.52412 52.57244, 13.55260 52.55127...    5_traffic_cell\n",
       "6  POLYGON ((13.59221 52.49677, 13.48497 52.42125...    6_traffic_cell\n",
       "7  POLYGON ((13.64111 52.46174, 13.67090 52.43806...    7_traffic_cell\n",
       "8  POLYGON ((13.39410 52.45710, 13.40917 52.44218...    8_traffic_cell"
      ]
     },
     "execution_count": 69,
     "metadata": {},
     "output_type": "execute_result"
    }
   ],
   "source": [
    "df"
   ]
  },
  {
   "cell_type": "markdown",
   "id": "f9aa2e08-8bc6-4fa1-9833-3e66e8e94f97",
   "metadata": {},
   "source": [
    "## Accessing the correct entry"
   ]
  },
  {
   "cell_type": "code",
   "execution_count": 70,
   "id": "fe9954e2-c8c4-409f-8ff9-72042337be4f",
   "metadata": {},
   "outputs": [],
   "source": [
    "file_name = '5_traffic_cell'"
   ]
  },
  {
   "cell_type": "code",
   "execution_count": 73,
   "id": "7c0ce7c1-3cdf-4ff8-9042-13d4e34a0382",
   "metadata": {},
   "outputs": [
    {
     "name": "stdout",
     "output_type": "stream",
     "text": [
      "5\n",
      "5\n"
     ]
    }
   ],
   "source": [
    "## Gettign the number\n",
    "print(file_name.split(\"_\")[0])\n",
    "\n",
    "# converting it to int\n",
    "print(int(file_name.split(\"_\")[0]))"
   ]
  },
  {
   "cell_type": "code",
   "execution_count": 74,
   "id": "1d0278d2-89cc-4107-bd61-e7e9acdbcde5",
   "metadata": {},
   "outputs": [],
   "source": [
    "## Accessing the dataframe\n",
    "df[df.TRAFFIC_CELL_NAME] == current_traffic_cell_name]"
   ]
  },
  {
   "cell_type": "code",
   "execution_count": null,
   "id": "01d516e8-e560-42b1-b51f-d87748b1583e",
   "metadata": {},
   "outputs": [],
   "source": []
  }
 ],
 "metadata": {
  "kernelspec": {
   "display_name": "Python 3 (ipykernel)",
   "language": "python",
   "name": "python3"
  },
  "language_info": {
   "codemirror_mode": {
    "name": "ipython",
    "version": 3
   },
   "file_extension": ".py",
   "mimetype": "text/x-python",
   "name": "python",
   "nbconvert_exporter": "python",
   "pygments_lexer": "ipython3",
   "version": "3.10.8"
  }
 },
 "nbformat": 4,
 "nbformat_minor": 5
}
