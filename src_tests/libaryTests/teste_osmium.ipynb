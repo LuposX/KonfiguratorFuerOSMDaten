{
 "cells": [
  {
   "cell_type": "code",
   "execution_count": 33,
   "id": "09c22c0c-ebc1-4568-9067-b66f831d5a34",
   "metadata": {
    "tags": []
   },
   "outputs": [],
   "source": [
    "import geopandas as gpd\n",
    "import osmium as osm\n",
    "import shapely as shp\n",
    "\n",
    "import pandas as pd\n",
    "\n",
    "import numpy as np\n",
    "\n",
    "import pathlib"
   ]
  },
  {
   "cell_type": "code",
   "execution_count": 34,
   "id": "af61ae13-9c6d-4003-bdb3-48ef61185221",
   "metadata": {},
   "outputs": [],
   "source": [
    "class LessDataOSMHandler(osm.SimpleHandler):\n",
    "    def __init__(self, category_whitelist):\n",
    "        osm.SimpleHandler.__init__(self)\n",
    "        self.osm_data = []\n",
    "        self.tag_list = []\n",
    "        \n",
    "        self.category_whitelist = category_whitelist\n",
    "        \n",
    "        self.wkbfab = osm.geom.WKBFactory()\n",
    "        \n",
    "        self.shapely_location = 0\n",
    "        \n",
    "        self.categories_of_osm_element = []\n",
    "        \n",
    "    def tag_inventory(self, elem, elem_type):\n",
    "        self.tag_list = []\n",
    "        for tag in elem.tags:\n",
    "            self.tag_list.append((tag.k, tag.v))\n",
    "        \n",
    "        self.osm_data.append([elem_type,\n",
    "                            self.shapely_location,\n",
    "                            np.asarray(self.tag_list, dtype=str),\n",
    "                            np.asarray(self.categories_of_osm_element, dtype=np.uint16)])\n",
    "            \n",
    "    \n",
    "    def node(self, n):   \n",
    "        self.categories_of_osm_element = []\n",
    "        \n",
    "        # check if the osm_element applies to a category\n",
    "        for category in self.category_whitelist:\n",
    "            name = category[0]\n",
    "            whitelist= category[1]\n",
    "            \n",
    "            if n.tags.get(whitelist[0]): #== whitelist[1]:\n",
    "                self.categories_of_osm_element.append(name)\n",
    "        \n",
    "        if self.categories_of_osm_element:\n",
    "            self.shapely_location = shp.Point((n.location.x, n.location.y))\n",
    "            self.tag_inventory(n, \"node\")\n",
    "        \n",
    "        del n\n",
    "    \n",
    "    def area(self, a): \n",
    "        self.categories_of_osm_element = []\n",
    "            \n",
    "          # check if the osm_element applies to a category\n",
    "        for category in self.category_whitelist:\n",
    "            name = category[0]\n",
    "            whitelist= category[1]\n",
    "            \n",
    "            if a.tags.get(whitelist[0]): #== whitelist[1]:\n",
    "                self.categories_of_osm_element.append(name)\n",
    "                \n",
    "        if self.categories_of_osm_element:\n",
    "            # create location/multipolygon\n",
    "            wkbshape = self.wkbfab.create_multipolygon(a)\n",
    "            self.shapely_location = shp.wkb.loads(wkbshape, hex=True)\n",
    "            \n",
    "            if a.from_way:\n",
    "                self.tag_inventory(a, \"area-way\")\n",
    "            else:\n",
    "                self.tag_inventory(a, \"area-relation\")"
   ]
  },
  {
   "cell_type": "code",
   "execution_count": 35,
   "id": "0d19bd0c-0f7f-446e-b8fd-e6d7abae26f4",
   "metadata": {},
   "outputs": [],
   "source": [
    "# defien a whitelist\n",
    "category_1_whitelist = [1, (\"building\", \"*\")]\n",
    "category_2_whitelist = [2, (\"landuse\", \"forest\")]\n",
    "category_3_whitelist = [3, (\"natural\", \"water\")]\n",
    "category_4_whitelist = [4, (\"type\", \"multipolygon\")]\n",
    "category_5_whitelist = [5, (\"building\", \"false\")]\n",
    "category_6_whitelist = [6, (\"water\", \"river\")]\n",
    "category_7_whitelist = [6, (\"shop\", \"*\")]\n",
    "\n",
    "category_list = [category_1_whitelist, category_2_whitelist, \n",
    "                 category_3_whitelist, category_4_whitelist, \n",
    "                 category_5_whitelist, category_6_whitelist]"
   ]
  },
  {
   "cell_type": "code",
   "execution_count": 36,
   "id": "7617799a-fce0-4ca9-b37c-cd8557795c1d",
   "metadata": {},
   "outputs": [],
   "source": [
    "osmhandler = LessDataOSMHandler(category_list)\n",
    "# scan the input file and fills the handler list accordingly\n",
    "osmhandler.apply_file(\"../data/andorra-latest.osm.pbf\", locations=True)"
   ]
  },
  {
   "cell_type": "code",
   "execution_count": 37,
   "id": "0224678f-ecde-444b-84c7-9c5140b71694",
   "metadata": {},
   "outputs": [],
   "source": [
    "# transform the list into a pandas DataFrame\n",
    "data_colnames = ['osm_type', 'geometry', 'tags', 'categories']\n",
    "df_osm = gpd.GeoDataFrame(osmhandler.osm_data, columns=data_colnames)\n",
    "# df_osm = tag_genome.sort_values(by=['type', 'id', 'ts'])"
   ]
  },
  {
   "cell_type": "code",
   "execution_count": 38,
   "id": "1c44f9fc-6d21-41b8-9fba-a99e64cc4ab9",
   "metadata": {},
   "outputs": [
    {
     "data": {
      "text/html": [
       "<div>\n",
       "<style scoped>\n",
       "    .dataframe tbody tr th:only-of-type {\n",
       "        vertical-align: middle;\n",
       "    }\n",
       "\n",
       "    .dataframe tbody tr th {\n",
       "        vertical-align: top;\n",
       "    }\n",
       "\n",
       "    .dataframe thead th {\n",
       "        text-align: right;\n",
       "    }\n",
       "</style>\n",
       "<table border=\"1\" class=\"dataframe\">\n",
       "  <thead>\n",
       "    <tr style=\"text-align: right;\">\n",
       "      <th></th>\n",
       "      <th>osm_type</th>\n",
       "      <th>geometry</th>\n",
       "      <th>tags</th>\n",
       "      <th>categories</th>\n",
       "    </tr>\n",
       "  </thead>\n",
       "  <tbody>\n",
       "    <tr>\n",
       "      <th>9540</th>\n",
       "      <td>area-way</td>\n",
       "      <td>MULTIPOLYGON (((1.66986 42.59227, 1.66997 42.5...</td>\n",
       "      <td>[[building, yes]]</td>\n",
       "      <td>[1, 5]</td>\n",
       "    </tr>\n",
       "    <tr>\n",
       "      <th>9541</th>\n",
       "      <td>area-way</td>\n",
       "      <td>MULTIPOLYGON (((1.52579 42.56516, 1.52596 42.5...</td>\n",
       "      <td>[[building, yes]]</td>\n",
       "      <td>[1, 5]</td>\n",
       "    </tr>\n",
       "    <tr>\n",
       "      <th>9542</th>\n",
       "      <td>area-way</td>\n",
       "      <td>MULTIPOLYGON (((1.52500 42.56563, 1.52506 42.5...</td>\n",
       "      <td>[[building, yes]]</td>\n",
       "      <td>[1, 5]</td>\n",
       "    </tr>\n",
       "    <tr>\n",
       "      <th>9543</th>\n",
       "      <td>area-way</td>\n",
       "      <td>MULTIPOLYGON (((1.52448 42.56562, 1.52451 42.5...</td>\n",
       "      <td>[[building, yes]]</td>\n",
       "      <td>[1, 5]</td>\n",
       "    </tr>\n",
       "    <tr>\n",
       "      <th>9544</th>\n",
       "      <td>area-way</td>\n",
       "      <td>MULTIPOLYGON (((1.49445 42.49135, 1.49451 42.4...</td>\n",
       "      <td>[[building, yes]]</td>\n",
       "      <td>[1, 5]</td>\n",
       "    </tr>\n",
       "  </tbody>\n",
       "</table>\n",
       "</div>"
      ],
      "text/plain": [
       "      osm_type                                           geometry  \\\n",
       "9540  area-way  MULTIPOLYGON (((1.66986 42.59227, 1.66997 42.5...   \n",
       "9541  area-way  MULTIPOLYGON (((1.52579 42.56516, 1.52596 42.5...   \n",
       "9542  area-way  MULTIPOLYGON (((1.52500 42.56563, 1.52506 42.5...   \n",
       "9543  area-way  MULTIPOLYGON (((1.52448 42.56562, 1.52451 42.5...   \n",
       "9544  area-way  MULTIPOLYGON (((1.49445 42.49135, 1.49451 42.4...   \n",
       "\n",
       "                   tags categories  \n",
       "9540  [[building, yes]]     [1, 5]  \n",
       "9541  [[building, yes]]     [1, 5]  \n",
       "9542  [[building, yes]]     [1, 5]  \n",
       "9543  [[building, yes]]     [1, 5]  \n",
       "9544  [[building, yes]]     [1, 5]  "
      ]
     },
     "execution_count": 38,
     "metadata": {},
     "output_type": "execute_result"
    }
   ],
   "source": [
    "df_osm.tail(5)"
   ]
  },
  {
   "cell_type": "code",
   "execution_count": 41,
   "id": "ca8ae383-9015-42a1-b457-be8ecb1bc464",
   "metadata": {},
   "outputs": [
    {
     "data": {
      "image/svg+xml": [
       "<svg xmlns=\"http://www.w3.org/2000/svg\" xmlns:xlink=\"http://www.w3.org/1999/xlink\" width=\"100.0\" height=\"100.0\" viewBox=\"13978985.0 426669519.0 2.0 2.0\" preserveAspectRatio=\"xMinYMin meet\"><g transform=\"matrix(1,0,0,-1,0,853339040.0)\"><circle cx=\"13978986.0\" cy=\"426669520.0\" r=\"0.06\" stroke=\"#555555\" stroke-width=\"0.02\" fill=\"#66cc99\" opacity=\"0.6\" /></g></svg>"
      ],
      "text/plain": [
       "<POINT (13978986 426669520)>"
      ]
     },
     "execution_count": 41,
     "metadata": {},
     "output_type": "execute_result"
    }
   ],
   "source": [
    "df_osm.iloc[0][\"geometry\"]"
   ]
  },
  {
   "cell_type": "code",
   "execution_count": 24,
   "id": "46338e55-11b6-4412-a181-b564303d93e8",
   "metadata": {},
   "outputs": [
    {
     "data": {
      "text/plain": [
       "9545"
      ]
     },
     "execution_count": 24,
     "metadata": {},
     "output_type": "execute_result"
    }
   ],
   "source": [
    "len(df_osm)"
   ]
  },
  {
   "cell_type": "markdown",
   "id": "cb4ab83c-1c69-4e1c-be84-adc2ddfa9f75",
   "metadata": {},
   "source": [
    "## Test functionality\n",
    "removes nodes from areas when tehy have same category"
   ]
  },
  {
   "cell_type": "code",
   "execution_count": 25,
   "id": "e81e3e9a-856e-4d1d-821d-5c87f3521b69",
   "metadata": {},
   "outputs": [],
   "source": [
    "from __future__ import annotations\n",
    "\n",
    "from typing import TYPE_CHECKING\n",
    "\n",
    "\"\"\"\n",
    "This file is used, to name the columns in the Dataframe.\n",
    "\"\"\"\n",
    "\n",
    "# Dataframe column(CL) names\n",
    "# ----------------------------\n",
    "CL_OSM_TYPE: Final = \"osm_type\"\n",
    "CL_TAGS: Final = \"tags\"\n",
    "CL_CATEGORY: Final = \"category\"\n",
    "CL_GEOMETRY: Final = \"geometry\"\n",
    "CL_TRAFFIC_CELL_NAME: Final = \"traffic_cell_name\"\n",
    "CL_OSM_ELEMENT_NAME: Final = \"element_name\"\n",
    "CL_AREA_WITHOUT_FLOORS: Final = \"area_of_osm_element\"\n",
    "CL_AREA_WITH_FLOORS: Final = \"area_of_osm_element_with_floors\"\n",
    "CL_NUMBER_OF_FLOORS: Final = \"number_of_floors\"\n",
    "\n",
    "# Misc\n",
    "# -----\n",
    "STANDARD_OSM_ELEMENT_NAME: Final = \"missing\"\n",
    "DONT_CARE_SYMBOL: Final = \"*\"\n",
    "\n",
    "# Name of osm elements\n",
    "# ---------------------\n",
    "NODE_NAME: Final = \"node\"\n",
    "AREA_WAY_NAME: Final = \"area-way\"\n",
    "AREA_RELATION_NAME: Final = \"area-relation\"\n"
   ]
  },
  {
   "cell_type": "code",
   "execution_count": 26,
   "id": "7a5cf0d1-7181-4b73-8bd4-66187654d507",
   "metadata": {},
   "outputs": [
    {
     "data": {
      "text/plain": [
       "geopandas.geodataframe.GeoDataFrame"
      ]
     },
     "execution_count": 26,
     "metadata": {},
     "output_type": "execute_result"
    }
   ],
   "source": [
    "type(df_osm)"
   ]
  },
  {
   "cell_type": "code",
   "execution_count": 27,
   "id": "63dae391-9eb4-4802-96f3-26f3a6a9c747",
   "metadata": {},
   "outputs": [],
   "source": [
    "area_df: GeoDataFrame = df_osm.loc[(df_osm[CL_OSM_TYPE] == AREA_WAY_NAME) | (df_osm[CL_OSM_TYPE] == AREA_RELATION_NAME)]\n",
    "node_df: GeoDataFrame = df_osm.loc[(df_osm[CL_OSM_TYPE] == NODE_NAME)]"
   ]
  },
  {
   "cell_type": "code",
   "execution_count": 28,
   "id": "f3ae21a4-88fd-43a8-a687-d1214d63d9de",
   "metadata": {},
   "outputs": [
    {
     "data": {
      "text/plain": [
       "geopandas.geodataframe.GeoDataFrame"
      ]
     },
     "execution_count": 28,
     "metadata": {},
     "output_type": "execute_result"
    }
   ],
   "source": [
    "type(node_df.head())"
   ]
  },
  {
   "cell_type": "code",
   "execution_count": 29,
   "id": "be6b70a1-fa6b-442e-8c60-411c883189ae",
   "metadata": {},
   "outputs": [
    {
     "data": {
      "text/plain": [
       "1149    False\n",
       "1150    False\n",
       "1151    False\n",
       "1152    False\n",
       "1153    False\n",
       "        ...  \n",
       "9540    False\n",
       "9541    False\n",
       "9542    False\n",
       "9543    False\n",
       "9544    False\n",
       "Length: 8396, dtype: bool"
      ]
     },
     "execution_count": 29,
     "metadata": {},
     "output_type": "execute_result"
    }
   ],
   "source": [
    "area_df.contains(node_df[CL_GEOMETRY].iloc[0])"
   ]
  },
  {
   "cell_type": "code",
   "execution_count": 32,
   "id": "f313657b-51b8-4d57-9e84-efd8170d89f4",
   "metadata": {},
   "outputs": [],
   "source": [
    "idx: int\n",
    "node_row: GeoSeries\n",
    "for idx_node, node_row in node_df.iterrows():\n",
    "    # This should return a GeoSeries which consists of bool values, true when the matching up row\n",
    "    # in the dataframe contains the node otherwise false.\n",
    "    found_areas_bool: GeoSeries = area_df[CL_GEOMETRY].within(node_row[CL_GEOMETRY]) #TODO: This could be wrong if yes use contains() instead\n",
    "\n",
    "    # iterate over them and check their categories\n",
    "    found_series: GeoSeries\n",
    "    # The iloc takes in our geoseries which consists of boolean values and returns all entries\n",
    "    # in the dataframe which row number is true\n",
    "    for i, found_series in area_df.loc[found_areas_bool].iterrows():\n",
    "        # This checks if the category name of the found_area is the same as the node ones\n",
    "        # If it has the same category we delete it.\n",
    "        print(len(area_df.loc[found_areas_bool]))\n",
    "        if found_series[CL_CATEGORY].item() == node_row[CL_CATEGORY].item():\n",
    "            # delete the node\n",
    "            print(\"yes\")\n",
    "            df_osm.drop(idx_node)\n",
    "            break"
   ]
  },
  {
   "cell_type": "code",
   "execution_count": 19,
   "id": "3c07213f-8558-42ba-afb7-a56fb6c3a6ca",
   "metadata": {},
   "outputs": [
    {
     "data": {
      "text/plain": [
       "9545"
      ]
     },
     "execution_count": 19,
     "metadata": {},
     "output_type": "execute_result"
    }
   ],
   "source": [
    "len(df_osm)"
   ]
  },
  {
   "cell_type": "code",
   "execution_count": 14,
   "id": "2038b47b-6c4a-4eff-b36e-d85f7171eda9",
   "metadata": {},
   "outputs": [
    {
     "name": "stdout",
     "output_type": "stream",
     "text": [
      "<class 'geopandas.geodataframe.GeoDataFrame'>\n",
      "RangeIndex: 9545 entries, 0 to 9544\n",
      "Data columns (total 4 columns):\n",
      " #   Column      Non-Null Count  Dtype   \n",
      "---  ------      --------------  -----   \n",
      " 0   osm_type    9545 non-null   object  \n",
      " 1   geometry    9545 non-null   geometry\n",
      " 2   tags        9545 non-null   object  \n",
      " 3   categories  9545 non-null   object  \n",
      "dtypes: geometry(1), object(3)\n",
      "memory usage: 298.4+ KB\n"
     ]
    }
   ],
   "source": [
    "df_osm.info()"
   ]
  },
  {
   "cell_type": "markdown",
   "id": "0846c5b7-6f99-460f-b379-a3c900b6bbe3",
   "metadata": {},
   "source": [
    "Osmhandler has the following attributes:\n",
    "- osm_type_list\n",
    "- ntags_list\n",
    "- tag_list_finish\n",
    "- category_list"
   ]
  },
  {
   "cell_type": "markdown",
   "id": "3e6eec74-9670-458a-ae82-e167e5e020b3",
   "metadata": {
    "jp-MarkdownHeadingCollapsed": true,
    "tags": []
   },
   "source": [
    "## Backup Handler"
   ]
  },
  {
   "cell_type": "code",
   "execution_count": 7,
   "id": "435e894f-85f2-487f-8d93-8acab14c9b40",
   "metadata": {},
   "outputs": [],
   "source": [
    "class OSMHandler(osm.SimpleHandler):\n",
    "    def __init__(self):\n",
    "        osm.SimpleHandler.__init__(self)\n",
    "        self.osm_data = []\n",
    "        self.coords = 0\n",
    "        self.tag_list = []\n",
    "        \n",
    "    def tag_inventory(self, elem, elem_type):\n",
    "        self.tag_list = []\n",
    "        for tag in elem.tags:\n",
    "            self.tag_list.append((tag.k, tag.v))\n",
    "        \n",
    "        if (elem_type == \"node\"):\n",
    "            self.osm_data.append([elem_type, \n",
    "                                   self.coords,\n",
    "                                   len(self.tag_list),\n",
    "                                   self.tag_list])\n",
    "        elif (elem_type == \"way\"):\n",
    "            self.osm_data.append([elem_type, \n",
    "                                   0,\n",
    "                                   len(self.tag_list),\n",
    "                                   self.tag_list])\n",
    "        else:\n",
    "            self.osm_data.append([elem_type, \n",
    "                                  self.coords,\n",
    "                                  len(self.tag_list),\n",
    "                                  self.tag_list])\n",
    "            \n",
    "    \n",
    "    def node(self, n):    \n",
    "        self.coords = shp.Point((n.location.x, n.location.y))\n",
    "        self.tag_inventory(n, \"node\")\n",
    "        \n",
    "        del n\n",
    "        \n",
    "        \n",
    "    def way(self, w):\n",
    "        test = []\n",
    "        for i in range(len(w.nodes)):\n",
    "            test.append((w.nodes[i].location.x, w.nodes[i].location.y))\n",
    "        \n",
    "        # this only works if we have more than 4 coordinates if not then throw this data entry away\n",
    "        if (4 <= len(test)):\n",
    "            self.coords = shp.Polygon(test.copy())\n",
    "            self.tag_inventory(w, \"way\")\n",
    "        \n",
    "        # if you dont do this the libary sometimes, throws erros, maybe only jupyter issues needs furtehr testing\n",
    "        del w\n",
    "        del test\n",
    "\n",
    "    # its really hard to get the location out of relations\n",
    "    def relation(self, r):   \n",
    "        self.tag_inventory(r, \"relation\")\n",
    "        \n",
    "        del r"
   ]
  },
  {
   "cell_type": "markdown",
   "id": "47b4766c-bfc9-49bb-be36-6135a3a21758",
   "metadata": {
    "jp-MarkdownHeadingCollapsed": true,
    "tags": []
   },
   "source": [
    "## Backup Handler 2"
   ]
  },
  {
   "cell_type": "code",
   "execution_count": 9,
   "id": "41121195-f2e2-4b04-bd92-a574a4d7285c",
   "metadata": {},
   "outputs": [],
   "source": [
    "class LessDataOSMHandler(osm.SimpleHandler):\n",
    "    def __init__(self, category_whitelist):\n",
    "        osm.SimpleHandler.__init__(self)\n",
    "        self.osm_data = []\n",
    "        self.tag_list = []\n",
    "        \n",
    "        self.category_whitelist = category_whitelist\n",
    "        \n",
    "        self.wkbfab = osm.geom.WKBFactory()\n",
    "        \n",
    "        self.shapely_location = 0\n",
    "        \n",
    "        self.categories_of_osm_element = []\n",
    "        \n",
    "    def tag_inventory(self, elem, elem_type):\n",
    "        self.tag_list = []\n",
    "        for tag in elem.tags:\n",
    "            self.tag_list.append((tag.k, tag.v))\n",
    "        \n",
    "        self.osm_data.append([elem_type,\n",
    "                            #self.shapely_location,\n",
    "                            len(self.tag_list),\n",
    "                            np.asarray(self.tag_list, dtype=str),\n",
    "                            np.asarray(self.categories_of_osm_element, dtype=np.uint16)])\n",
    "            \n",
    "    \n",
    "    def node(self, n):   \n",
    "        self.categories_of_osm_element = []\n",
    "        \n",
    "        # check if the osm_element applies to a category\n",
    "        for category in self.category_whitelist:\n",
    "            name = category[0]\n",
    "            whitelist= category[1]\n",
    "            \n",
    "            if n.tags.get(whitelist[0]): #== whitelist[1]:\n",
    "                self.categories_of_osm_element.append(name)\n",
    "        \n",
    "        if self.categories_of_osm_element:\n",
    "            self.shapely_location = shp.Point((n.location.x, n.location.y))\n",
    "            self.tag_inventory(n, \"node\")\n",
    "        \n",
    "        del n\n",
    "\n",
    "    def way(self, w):\n",
    "        self.categories_of_osm_element = []\n",
    "            \n",
    "         # check if the osm_element applies to a category\n",
    "        for category in self.category_whitelist:\n",
    "            name = category[0]\n",
    "            whitelist= category[1]\n",
    "            \n",
    "            if w.tags.get(whitelist[0]) == whitelist[1]:\n",
    "                    self.categories_of_osm_element.append(name)\n",
    "        \n",
    "        if self.categories_of_osm_element:\n",
    "            self.tag_inventory(w, \"way\")\n",
    "\n",
    "    # its really hard to get the location out of relations\n",
    "    def relation(self, r):   \n",
    "        self.categories_of_osm_element = []\n",
    "            \n",
    "          # check if the osm_element applies to a category\n",
    "        for category in self.category_whitelist:\n",
    "            name = category[0]\n",
    "            whitelist= category[1]\n",
    "            \n",
    "            if r.tags.get(whitelist[0]) == whitelist[1]:\n",
    "                    self.categories_of_osm_element.append(name)\n",
    "                \n",
    "        if self.categories_of_osm_element:   \n",
    "            self.tag_inventory(r, \"relation\")"
   ]
  },
  {
   "cell_type": "code",
   "execution_count": null,
   "id": "2f5e43ec-3e74-4e79-bcac-500088b6be7e",
   "metadata": {},
   "outputs": [],
   "source": []
  }
 ],
 "metadata": {
  "kernelspec": {
   "display_name": "Python 3 (ipykernel)",
   "language": "python",
   "name": "python3"
  },
  "language_info": {
   "codemirror_mode": {
    "name": "ipython",
    "version": 3
   },
   "file_extension": ".py",
   "mimetype": "text/x-python",
   "name": "python",
   "nbconvert_exporter": "python",
   "pygments_lexer": "ipython3",
   "version": "3.10.8"
  }
 },
 "nbformat": 4,
 "nbformat_minor": 5
}
