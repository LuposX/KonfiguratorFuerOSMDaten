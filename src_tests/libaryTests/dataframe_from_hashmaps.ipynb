{
 "cells": [
  {
   "cell_type": "code",
   "execution_count": 9,
   "id": "ab132abd-a9cc-4fc4-bdd4-3b57be5e8795",
   "metadata": {},
   "outputs": [],
   "source": [
    "list = []\n",
    "\n",
    "hm1 = {}\n",
    "hm1[\"test\"] = 10\n",
    "hm1[\"sonne\"] = 3\n",
    "hm1[\"tod\"] = 11\n",
    "list.append(hm1)\n",
    "\n",
    "hm2 = {}\n",
    "hm2[\"test\"] = 20\n",
    "hm2[\"sonne\"] = 100\n",
    "hm2[\"mord\"] = 1\n",
    "list.append(hm2)"
   ]
  },
  {
   "cell_type": "code",
   "execution_count": 10,
   "id": "3a80538f-f975-4ace-804c-c0cca908fcc3",
   "metadata": {},
   "outputs": [
    {
     "data": {
      "text/plain": [
       "[{'test': 10, 'sonne': 3, 'tod': 11}, {'test': 20, 'sonne': 100, 'mord': 1}]"
      ]
     },
     "execution_count": 10,
     "metadata": {},
     "output_type": "execute_result"
    }
   ],
   "source": [
    "list"
   ]
  },
  {
   "cell_type": "code",
   "execution_count": 11,
   "id": "43d93437-7f7e-4613-b960-dfc774a2f490",
   "metadata": {},
   "outputs": [],
   "source": [
    "import pandas as pd"
   ]
  },
  {
   "cell_type": "code",
   "execution_count": 12,
   "id": "e2c727df-81a0-47f9-a7d8-9952c7c3e9fb",
   "metadata": {},
   "outputs": [],
   "source": [
    "df = pd.DataFrame(list)"
   ]
  },
  {
   "cell_type": "code",
   "execution_count": 13,
   "id": "62f82125-320d-4233-9b77-44a8bc967870",
   "metadata": {},
   "outputs": [
    {
     "data": {
      "text/html": [
       "<div>\n",
       "<style scoped>\n",
       "    .dataframe tbody tr th:only-of-type {\n",
       "        vertical-align: middle;\n",
       "    }\n",
       "\n",
       "    .dataframe tbody tr th {\n",
       "        vertical-align: top;\n",
       "    }\n",
       "\n",
       "    .dataframe thead th {\n",
       "        text-align: right;\n",
       "    }\n",
       "</style>\n",
       "<table border=\"1\" class=\"dataframe\">\n",
       "  <thead>\n",
       "    <tr style=\"text-align: right;\">\n",
       "      <th></th>\n",
       "      <th>test</th>\n",
       "      <th>sonne</th>\n",
       "      <th>tod</th>\n",
       "      <th>mord</th>\n",
       "    </tr>\n",
       "  </thead>\n",
       "  <tbody>\n",
       "    <tr>\n",
       "      <th>0</th>\n",
       "      <td>10</td>\n",
       "      <td>3</td>\n",
       "      <td>11.0</td>\n",
       "      <td>NaN</td>\n",
       "    </tr>\n",
       "    <tr>\n",
       "      <th>1</th>\n",
       "      <td>20</td>\n",
       "      <td>100</td>\n",
       "      <td>NaN</td>\n",
       "      <td>1.0</td>\n",
       "    </tr>\n",
       "  </tbody>\n",
       "</table>\n",
       "</div>"
      ],
      "text/plain": [
       "   test  sonne   tod  mord\n",
       "0    10      3  11.0   NaN\n",
       "1    20    100   NaN   1.0"
      ]
     },
     "execution_count": 13,
     "metadata": {},
     "output_type": "execute_result"
    }
   ],
   "source": [
    "df"
   ]
  },
  {
   "cell_type": "code",
   "execution_count": null,
   "id": "84569166-451f-419b-9702-edc503a08ffd",
   "metadata": {},
   "outputs": [],
   "source": []
  }
 ],
 "metadata": {
  "kernelspec": {
   "display_name": "Python 3 (ipykernel)",
   "language": "python",
   "name": "python3"
  },
  "language_info": {
   "codemirror_mode": {
    "name": "ipython",
    "version": 3
   },
   "file_extension": ".py",
   "mimetype": "text/x-python",
   "name": "python",
   "nbconvert_exporter": "python",
   "pygments_lexer": "ipython3",
   "version": "3.11.0"
  }
 },
 "nbformat": 4,
 "nbformat_minor": 5
}
