{
 "cells": [
  {
   "cell_type": "code",
   "execution_count": 66,
   "id": "3a87b509-2a56-450b-b842-f9cabf17feeb",
   "metadata": {},
   "outputs": [],
   "source": [
    "import subprocess"
   ]
  },
  {
   "cell_type": "code",
   "execution_count": 67,
   "id": "ee07ae91-a301-4d1e-a30c-df89a605f8d8",
   "metadata": {},
   "outputs": [],
   "source": [
    "import shapely.geometry\n",
    "import geopandas as gpd"
   ]
  },
  {
   "cell_type": "code",
   "execution_count": 68,
   "id": "61df3943-4486-41c9-b855-a70f32343c2e",
   "metadata": {},
   "outputs": [],
   "source": [
    "import os"
   ]
  },
  {
   "cell_type": "code",
   "execution_count": 89,
   "id": "6962c083-91ca-424f-92b4-3ebdf754a758",
   "metadata": {},
   "outputs": [
    {
     "data": {
      "text/html": [
       "<div>\n",
       "<style scoped>\n",
       "    .dataframe tbody tr th:only-of-type {\n",
       "        vertical-align: middle;\n",
       "    }\n",
       "\n",
       "    .dataframe tbody tr th {\n",
       "        vertical-align: top;\n",
       "    }\n",
       "\n",
       "    .dataframe thead th {\n",
       "        text-align: right;\n",
       "    }\n",
       "</style>\n",
       "<table border=\"1\" class=\"dataframe\">\n",
       "  <thead>\n",
       "    <tr style=\"text-align: right;\">\n",
       "      <th></th>\n",
       "      <th>geometry</th>\n",
       "    </tr>\n",
       "  </thead>\n",
       "  <tbody>\n",
       "    <tr>\n",
       "      <th>0</th>\n",
       "      <td>POLYGON ((13.23704 52.59549, 13.17649 52.56324...</td>\n",
       "    </tr>\n",
       "    <tr>\n",
       "      <th>1</th>\n",
       "      <td>POLYGON ((13.31454 52.58959, 13.33837 52.51526...</td>\n",
       "    </tr>\n",
       "    <tr>\n",
       "      <th>2</th>\n",
       "      <td>POLYGON ((13.51302 52.57112, 13.46440 52.55958...</td>\n",
       "    </tr>\n",
       "    <tr>\n",
       "      <th>3</th>\n",
       "      <td>POLYGON ((13.18972 52.49950, 13.13450 52.45944...</td>\n",
       "    </tr>\n",
       "    <tr>\n",
       "      <th>4</th>\n",
       "      <td>POLYGON ((13.32353 52.52612, 13.26636 52.48427...</td>\n",
       "    </tr>\n",
       "    <tr>\n",
       "      <th>5</th>\n",
       "      <td>POLYGON ((13.52412 52.57244, 13.55260 52.55127...</td>\n",
       "    </tr>\n",
       "    <tr>\n",
       "      <th>6</th>\n",
       "      <td>POLYGON ((13.59221 52.49677, 13.48497 52.42125...</td>\n",
       "    </tr>\n",
       "    <tr>\n",
       "      <th>7</th>\n",
       "      <td>POLYGON ((13.64111 52.46174, 13.67090 52.43806...</td>\n",
       "    </tr>\n",
       "    <tr>\n",
       "      <th>8</th>\n",
       "      <td>POLYGON ((13.39410 52.45710, 13.40917 52.44218...</td>\n",
       "    </tr>\n",
       "  </tbody>\n",
       "</table>\n",
       "</div>"
      ],
      "text/plain": [
       "                                            geometry\n",
       "0  POLYGON ((13.23704 52.59549, 13.17649 52.56324...\n",
       "1  POLYGON ((13.31454 52.58959, 13.33837 52.51526...\n",
       "2  POLYGON ((13.51302 52.57112, 13.46440 52.55958...\n",
       "3  POLYGON ((13.18972 52.49950, 13.13450 52.45944...\n",
       "4  POLYGON ((13.32353 52.52612, 13.26636 52.48427...\n",
       "5  POLYGON ((13.52412 52.57244, 13.55260 52.55127...\n",
       "6  POLYGON ((13.59221 52.49677, 13.48497 52.42125...\n",
       "7  POLYGON ((13.64111 52.46174, 13.67090 52.43806...\n",
       "8  POLYGON ((13.39410 52.45710, 13.40917 52.44218..."
      ]
     },
     "execution_count": 89,
     "metadata": {},
     "output_type": "execute_result"
    }
   ],
   "source": [
    "df = gpd.read_file(\"data/berlin-regions.geojson\")\n",
    "df"
   ]
  },
  {
   "cell_type": "code",
   "execution_count": 70,
   "id": "2e519b55-af6e-45e8-acf2-2e48f90a0d45",
   "metadata": {},
   "outputs": [],
   "source": [
    "## Create build directory\n",
    "# Directory\n",
    "directory = \"splitted_berlin\"\n",
    "  \n",
    "# Parent Directory path\n",
    "parent_dir = \"build/\"\n",
    "  \n",
    "# Path\n",
    "path = os.path.join(parent_dir, directory)\n",
    "\n",
    "# Create the directory, if it does not already exists\n",
    "if not os.path.exists(path):\n",
    "    os.mkdir(path)"
   ]
  },
  {
   "cell_type": "code",
   "execution_count": 71,
   "id": "c0af9616-5ba9-4c93-a8ef-03772efdc1f4",
   "metadata": {},
   "outputs": [
    {
     "name": "stdout",
     "output_type": "stream",
     "text": [
      "Deleting file: build/splitted_berlin//0.pbf\n",
      "Deleting file: build/splitted_berlin//1.pbf\n",
      "Deleting file: build/splitted_berlin//10.pbf\n",
      "Deleting file: build/splitted_berlin//11.pbf\n",
      "Deleting file: build/splitted_berlin//2.pbf\n",
      "Deleting file: build/splitted_berlin//3.pbf\n",
      "Deleting file: build/splitted_berlin//4.pbf\n",
      "Deleting file: build/splitted_berlin//5.pbf\n",
      "Deleting file: build/splitted_berlin//6.pbf\n",
      "Deleting file: build/splitted_berlin//7.pbf\n",
      "Deleting file: build/splitted_berlin//8.pbf\n",
      "Deleting file: build/splitted_berlin//9.pbf\n"
     ]
    }
   ],
   "source": [
    "##Delete directory files\n",
    "delete_path = \"build/splitted_berlin//\"\n",
    "for file_name in os.listdir(delete_path):\n",
    "    # construct full file path\n",
    "    file = delete_path + file_name\n",
    "    if os.path.isfile(file):\n",
    "        print('Deleting file:', file)\n",
    "        os.remove(file)\n",
    "        "
   ]
  },
  {
   "cell_type": "code",
   "execution_count": 72,
   "id": "e38a763f-8736-4f01-8e81-9e148db1affd",
   "metadata": {},
   "outputs": [
    {
     "name": "stdout",
     "output_type": "stream",
     "text": [
      "Split Nr. 0: rt: 0  stout:   stderr: \n",
      "Split Nr. 1: rt: 0  stout:   stderr: \n",
      "Split Nr. 2: rt: 0  stout:   stderr: \n",
      "Split Nr. 3: rt: 0  stout:   stderr: \n",
      "Split Nr. 4: rt: 0  stout:   stderr: \n",
      "Split Nr. 5: rt: 0  stout:   stderr: \n",
      "Split Nr. 6: rt: 0  stout:   stderr: \n",
      "Split Nr. 7: rt: 0  stout:   stderr: \n",
      "Split Nr. 8: rt: 0  stout:   stderr: \n"
     ]
    }
   ],
   "source": [
    "for i in range(len(df)):\n",
    "    result = subprocess.run([\"osmium\", \"extract\", \"-b\", \"{},{},{},{}\".format(*df[\"geometry\"][i].bounds), \"data/berlin-latest.osm.pbf\", \"-o\", \"build/splitted_berlin/\" + str(i) + \".pbf\"], stdout=subprocess.PIPE, stderr=subprocess.PIPE, text=True)\n",
    "    print(\"Split Nr. \" + str(i) + \": \" + \"rt: \" + str(result.returncode), \" stout: \" + str(result.stdout), \" stderr: \" + str(result.stderr))\n",
    "    \n",
    "    "
   ]
  },
  {
   "cell_type": "code",
   "execution_count": 87,
   "id": "50fc1236-6b2d-429d-bee4-6c5e38b8fa72",
   "metadata": {},
   "outputs": [
    {
     "data": {
      "text/plain": [
       "[(13.237042354469452, 52.595492996112995),\n",
       " (13.176485895502054, 52.563235128213705),\n",
       " (13.189451190121446, 52.51321938272079),\n",
       " (13.280251968459794, 52.50306600439029),\n",
       " (13.326366874550104, 52.54571241207907),\n",
       " (13.310700392244541, 52.58911098525323),\n",
       " (13.237042354469452, 52.595492996112995)]"
      ]
     },
     "execution_count": 87,
     "metadata": {},
     "output_type": "execute_result"
    }
   ],
   "source": [
    "## Ab hier alles ignorieren\n",
    "list(df[\"geometry\"][0].exterior.coords)\n"
   ]
  },
  {
   "cell_type": "code",
   "execution_count": 91,
   "id": "ccea0e1f-0eb4-4c18-a47d-faa3dc0f345b",
   "metadata": {},
   "outputs": [
    {
     "data": {
      "text/plain": [
       "geopandas.geoseries.GeoSeries"
      ]
     },
     "execution_count": 91,
     "metadata": {},
     "output_type": "execute_result"
    }
   ],
   "source": [
    "df[\"geometry\"][0]"
   ]
  },
  {
   "cell_type": "code",
   "execution_count": 86,
   "id": "0950d451-a3ca-44ce-b6b0-0cd25651b244",
   "metadata": {},
   "outputs": [
    {
     "name": "stdout",
     "output_type": "stream",
     "text": [
      "rt: 1  stout:   stderr: [ 0:00] Started osmium extract\n",
      "[ 0:00]   osmium version 1.14.0\n",
      "[ 0:00]   libosmium version 2.17.1\n",
      "[ 0:00] Command line options and default settings:\n",
      "[ 0:00]   input options:\n",
      "[ 0:00]     file name: data/berlin-latest.osm.pbf\n",
      "[ 0:00]     file format: \n",
      "[ 0:00]   output options:\n",
      "[ 0:00]     file name: \n",
      "[ 0:00]     file format: \n",
      "[ 0:00]     generator: osmium/1.14.0\n",
      "[ 0:00]     overwrite: no\n",
      "[ 0:00]     fsync: no\n",
      "[ 0:00]   strategy options:\n",
      "[ 0:00]     strategy: complete_ways\n",
      "[ 0:00]     with history: no\n",
      "[ 0:00]   other options:\n",
      "[ 0:00]     config file: configs/example-config.json\n",
      "[ 0:00]     output directory: \n",
      "[ 0:00]     attributes to clean: (none)\n",
      "[ 0:00] \n",
      "[ 0:00] Reading config file...\n",
      "[ 0:00]   Reading extracts from config file...\n",
      "[ 0:00]     Looking at extract 'a/'...\n",
      "Error while reading config file 'configs/example-config.json':\n",
      "In extract 1: Ring must contain at least three coordinate pairs.\n",
      "\n"
     ]
    }
   ],
   "source": [
    "result = subprocess.run([\"osmium\", \"extract\", \"-v\", \"-c\", \"configs/example-config.json\", \"data/berlin-latest.osm.pbf\"], stdout=subprocess.PIPE, stderr=subprocess.PIPE, text=True)\n",
    "print(\"rt: \" + str(result.returncode), \" stout: \" + str(result.stdout), \" stderr: \" + str(result.stderr))"
   ]
  },
  {
   "cell_type": "code",
   "execution_count": 79,
   "id": "d9cc27ea-0345-4617-b2eb-3857b3d1b82b",
   "metadata": {},
   "outputs": [],
   "source": [
    "def generate_osmium_config(config_position, polygons):\n",
    "    config_text = \"{\\\"extracts\\\":[\";\n",
    "    for i in range(len(polygons)):\n",
    "        config_text = config_text + get_polygon_as_text(polygons[i])\n",
    "        if (i != len(polygons)-1):\n",
    "            config_text = config_text + \",\"\n",
    "    config_text = config_text + \"],\\\"directory\\\": \\\"/build/test/\\\"\"\n",
    "    "
   ]
  },
  {
   "cell_type": "code",
   "execution_count": null,
   "id": "00330564-1f03-42c4-853d-5aed6eff1778",
   "metadata": {},
   "outputs": [],
   "source": []
  }
 ],
 "metadata": {
  "kernelspec": {
   "display_name": "Python 3 (ipykernel)",
   "language": "python",
   "name": "python3"
  },
  "language_info": {
   "codemirror_mode": {
    "name": "ipython",
    "version": 3
   },
   "file_extension": ".py",
   "mimetype": "text/x-python",
   "name": "python",
   "nbconvert_exporter": "python",
   "pygments_lexer": "ipython3",
   "version": "3.11.0"
  }
 },
 "nbformat": 4,
 "nbformat_minor": 5
}
