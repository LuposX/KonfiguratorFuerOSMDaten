{
 "cells": [
  {
   "cell_type": "code",
   "execution_count": 1,
   "id": "645a2f0f-9149-45db-ba74-c8d01b60d8e5",
   "metadata": {},
   "outputs": [],
   "source": [
    "tag1 = '[\"buildin:=yes\", \"building=no\", \"poop=384893_?$%ada\", \"building:level=298398_Ssfs90\"]'\n",
    "tag2 = \"['buildin:=yes', 'building=no', 'poop=384893_?$%ada', 'building:level=298398_Ssfs90']\"\n",
    "tag3 = \"['buildin:=yes']\"\n",
    "test4 = '[]'"
   ]
  },
  {
   "cell_type": "code",
   "execution_count": 2,
   "id": "828f8a9c-af73-4449-887c-15b0be5baffb",
   "metadata": {},
   "outputs": [],
   "source": [
    "    def string_to_list_parser(string: str):\n",
    "        \"\"\"\n",
    "        This method parses a string representation of a list to an actual list.\n",
    "        \"\"\"\n",
    "        tmp_str: str = string.replace('[', '').replace(']', '').replace('\"', '').replace(\"'\", \"\")\n",
    "        new_tmp_str: str = tmp_str.split(\",\")\n",
    "        return new_tmp_str"
   ]
  },
  {
   "cell_type": "code",
   "execution_count": 3,
   "id": "c87bbf7b-90d7-4c4c-b942-29791028d918",
   "metadata": {},
   "outputs": [
    {
     "data": {
      "text/plain": [
       "['buildin:=yes',\n",
       " ' building=no',\n",
       " ' poop=384893_?$%ada',\n",
       " ' building:level=298398_Ssfs90']"
      ]
     },
     "execution_count": 3,
     "metadata": {},
     "output_type": "execute_result"
    }
   ],
   "source": [
    "string_to_list_parser(tag1)"
   ]
  },
  {
   "cell_type": "code",
   "execution_count": 49,
   "id": "387bd8de-ad0a-4174-965d-b9617e926aa6",
   "metadata": {},
   "outputs": [
    {
     "data": {
      "text/plain": [
       "'buildin:=yes, building=no, poop=384893_?$%ada, building:level=298398_Ssfs90'"
      ]
     },
     "execution_count": 49,
     "metadata": {},
     "output_type": "execute_result"
    }
   ],
   "source": [
    "import re\n",
    "re.sub(r'[\"\\[\\]\\']', '', tag1)"
   ]
  },
  {
   "cell_type": "code",
   "execution_count": 51,
   "id": "b1b9fbf4-6342-40bc-9658-ed701317e730",
   "metadata": {},
   "outputs": [
    {
     "data": {
      "text/plain": [
       "['']"
      ]
     },
     "execution_count": 51,
     "metadata": {},
     "output_type": "execute_result"
    }
   ],
   "source": [
    "''.split(\",\")"
   ]
  },
  {
   "cell_type": "code",
   "execution_count": null,
   "id": "7a446e65-0510-4fc8-b256-a50fd7b9e044",
   "metadata": {},
   "outputs": [],
   "source": []
  }
 ],
 "metadata": {
  "kernelspec": {
   "display_name": "Python 3 (ipykernel)",
   "language": "python",
   "name": "python3"
  },
  "language_info": {
   "codemirror_mode": {
    "name": "ipython",
    "version": 3
   },
   "file_extension": ".py",
   "mimetype": "text/x-python",
   "name": "python",
   "nbconvert_exporter": "python",
   "pygments_lexer": "ipython3",
   "version": "3.9.15"
  }
 },
 "nbformat": 4,
 "nbformat_minor": 5
}
