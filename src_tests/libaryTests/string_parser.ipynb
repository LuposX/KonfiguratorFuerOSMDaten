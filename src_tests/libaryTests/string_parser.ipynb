{
 "cells": [
  {
   "cell_type": "code",
   "execution_count": 1,
   "id": "e1cef930-c4d8-442b-bd0b-28b0dec71159",
   "metadata": {},
   "outputs": [],
   "source": [
    "import re"
   ]
  },
  {
   "cell_type": "code",
   "execution_count": 34,
   "id": "645a2f0f-9149-45db-ba74-c8d01b60d8e5",
   "metadata": {},
   "outputs": [],
   "source": [
    "tag1 = \"[('addr:country', 'MC'), ('building', 'terrace'), ('building:levels', '8'), ('name', 'Les Eucalyptus')]\"\n",
    "tag2 = \"[('area', 'yes'), ('building', 'yes'), ('building:levels', '1'), ('highway', 'footway'), ('roof:shape', 'flat')]\"\n",
    "tag3 = \"[('area', 'yes')]\"\n",
    "tag4 = \"[]\""
   ]
  },
  {
   "cell_type": "code",
   "execution_count": 5,
   "id": "828f8a9c-af73-4449-887c-15b0be5baffb",
   "metadata": {},
   "outputs": [
    {
     "ename": "IndentationError",
     "evalue": "unexpected indent (3372358938.py, line 5)",
     "output_type": "error",
     "traceback": [
      "\u001B[0;36m  Cell \u001B[0;32mIn [5], line 5\u001B[0;36m\u001B[0m\n\u001B[0;31m    tmp_str: str = re.sub(r'[\"\\[\\]\\']', '', string)\u001B[0m\n\u001B[0m    ^\u001B[0m\n\u001B[0;31mIndentationError\u001B[0m\u001B[0;31m:\u001B[0m unexpected indent\n"
     ]
    }
   ],
   "source": [
    "def string_to_list_parser(string: str):\n",
    "    \"\"\"\n",
    "        This method parses a string representation of a list to an actual list.\n",
    "        \"\"\"\n",
    "        tmp_str: str = re.sub(r'[\"\\[\\]\\']', '', string)\n",
    "        tmp_str: str = tmp_str.split(\",\")\n",
    "\n",
    "        # remove trailing whitespaces\n",
    "        tmp_str = [x.strip(' ') for x in tmp_str]\n",
    "\n",
    "        if len(tmp_str) != 0:\n",
    "            return list(filter(None, tmp_str))\n",
    "        else:\n",
    "            return []"
   ]
  },
  {
   "cell_type": "code",
   "execution_count": 3,
   "id": "c87bbf7b-90d7-4c4c-b942-29791028d918",
   "metadata": {},
   "outputs": [
    {
     "data": {
      "text/plain": [
       "['buildin:=yes',\n",
       " ' building=no',\n",
       " ' poop=384893_?$%ada',\n",
       " ' building:level=298398_Ssfs90']"
      ]
     },
     "execution_count": 3,
     "metadata": {},
     "output_type": "execute_result"
    }
   ],
   "source": [
    "string_to_list_parser(tag1)"
   ]
  },
  {
   "cell_type": "code",
   "execution_count": 36,
   "id": "7a446e65-0510-4fc8-b256-a50fd7b9e044",
   "metadata": {},
   "outputs": [
    {
     "data": {
      "text/plain": [
       "[('area', 'yes')]"
      ]
     },
     "execution_count": 36,
     "metadata": {},
     "output_type": "execute_result"
    }
   ],
   "source": [
    "eval(tag3)"
   ]
  },
  {
   "cell_type": "code",
   "execution_count": 30,
   "id": "43750083-6662-46e3-a9de-972383bbc380",
   "metadata": {},
   "outputs": [],
   "source": [
    "test1 = {\"test1\": [1], \"test2\":  [], \"test3\": [1,2,3]}\n",
    "test2 = {\"test1\": [\"lol\"], \"test2\":  [\"lol\"], \"test3\": [\"lol\"]}"
   ]
  },
  {
   "cell_type": "code",
   "execution_count": 31,
   "id": "0b421b5a-042d-4e28-8ba8-89860466435c",
   "metadata": {},
   "outputs": [
    {
     "data": {
      "text/plain": [
       "{'test1': [1], 'test2': [], 'test3': [1, 2, 3]}"
      ]
     },
     "execution_count": 31,
     "metadata": {},
     "output_type": "execute_result"
    }
   ],
   "source": [
    "test1"
   ]
  },
  {
   "cell_type": "code",
   "execution_count": 32,
   "id": "cff4a5ae-465a-4567-9baf-fc68ebbd677d",
   "metadata": {},
   "outputs": [],
   "source": [
    "for key, value in test2.items():\n",
    "    test1[key].append(value[0])"
   ]
  },
  {
   "cell_type": "code",
   "execution_count": 33,
   "id": "4c3a290f-2d23-498d-ab63-75979efab11e",
   "metadata": {},
   "outputs": [
    {
     "data": {
      "text/plain": [
       "{'test1': [1, 'lol'], 'test2': ['lol'], 'test3': [1, 2, 3, 'lol']}"
      ]
     },
     "execution_count": 33,
     "metadata": {},
     "output_type": "execute_result"
    }
   ],
   "source": [
    "test1"
   ]
  },
  {
   "cell_type": "code",
   "execution_count": null,
   "id": "7b433d19-95b1-4133-a87e-a44cd30770d0",
   "metadata": {},
   "outputs": [],
   "source": []
  }
 ],
 "metadata": {
  "kernelspec": {
   "display_name": "Python 3 (ipykernel)",
   "language": "python",
   "name": "python3"
  },
  "language_info": {
   "codemirror_mode": {
    "name": "ipython",
    "version": 3
   },
   "file_extension": ".py",
   "mimetype": "text/x-python",
   "name": "python",
   "nbconvert_exporter": "python",
   "pygments_lexer": "ipython3",
   "version": "3.10.8"
  }
 },
 "nbformat": 4,
 "nbformat_minor": 5
}
