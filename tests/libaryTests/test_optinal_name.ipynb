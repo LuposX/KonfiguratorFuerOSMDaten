{
 "cells": [
  {
   "cell_type": "code",
   "execution_count": 17,
   "id": "a4425b8c-b943-4d8e-b3e7-3fc4a1b70f9b",
   "metadata": {},
   "outputs": [],
   "source": [
    "import shapely.geometry\n",
    "import geopandas as gpd"
   ]
  },
  {
   "cell_type": "code",
   "execution_count": 30,
   "id": "1bba5817-7494-4803-b455-4587b0a625d3",
   "metadata": {},
   "outputs": [
    {
     "data": {
      "text/html": [
       "<div>\n",
       "<style scoped>\n",
       "    .dataframe tbody tr th:only-of-type {\n",
       "        vertical-align: middle;\n",
       "    }\n",
       "\n",
       "    .dataframe tbody tr th {\n",
       "        vertical-align: top;\n",
       "    }\n",
       "\n",
       "    .dataframe thead th {\n",
       "        text-align: right;\n",
       "    }\n",
       "</style>\n",
       "<table border=\"1\" class=\"dataframe\">\n",
       "  <thead>\n",
       "    <tr style=\"text-align: right;\">\n",
       "      <th></th>\n",
       "      <th>geometry</th>\n",
       "    </tr>\n",
       "  </thead>\n",
       "  <tbody>\n",
       "    <tr>\n",
       "      <th>0</th>\n",
       "      <td>POLYGON ((13.23704 52.59549, 13.17649 52.56324...</td>\n",
       "    </tr>\n",
       "    <tr>\n",
       "      <th>1</th>\n",
       "      <td>POLYGON ((13.31454 52.58959, 13.33837 52.51526...</td>\n",
       "    </tr>\n",
       "    <tr>\n",
       "      <th>2</th>\n",
       "      <td>POLYGON ((13.51302 52.57112, 13.46440 52.55958...</td>\n",
       "    </tr>\n",
       "    <tr>\n",
       "      <th>3</th>\n",
       "      <td>POLYGON ((13.18972 52.49950, 13.13450 52.45944...</td>\n",
       "    </tr>\n",
       "    <tr>\n",
       "      <th>4</th>\n",
       "      <td>POLYGON ((13.32353 52.52612, 13.26636 52.48427...</td>\n",
       "    </tr>\n",
       "    <tr>\n",
       "      <th>5</th>\n",
       "      <td>POLYGON ((13.52412 52.57244, 13.55260 52.55127...</td>\n",
       "    </tr>\n",
       "    <tr>\n",
       "      <th>6</th>\n",
       "      <td>POLYGON ((13.59221 52.49677, 13.48497 52.42125...</td>\n",
       "    </tr>\n",
       "    <tr>\n",
       "      <th>7</th>\n",
       "      <td>POLYGON ((13.64111 52.46174, 13.67090 52.43806...</td>\n",
       "    </tr>\n",
       "    <tr>\n",
       "      <th>8</th>\n",
       "      <td>POLYGON ((13.39410 52.45710, 13.40917 52.44218...</td>\n",
       "    </tr>\n",
       "  </tbody>\n",
       "</table>\n",
       "</div>"
      ],
      "text/plain": [
       "                                            geometry\n",
       "0  POLYGON ((13.23704 52.59549, 13.17649 52.56324...\n",
       "1  POLYGON ((13.31454 52.58959, 13.33837 52.51526...\n",
       "2  POLYGON ((13.51302 52.57112, 13.46440 52.55958...\n",
       "3  POLYGON ((13.18972 52.49950, 13.13450 52.45944...\n",
       "4  POLYGON ((13.32353 52.52612, 13.26636 52.48427...\n",
       "5  POLYGON ((13.52412 52.57244, 13.55260 52.55127...\n",
       "6  POLYGON ((13.59221 52.49677, 13.48497 52.42125...\n",
       "7  POLYGON ((13.64111 52.46174, 13.67090 52.43806...\n",
       "8  POLYGON ((13.39410 52.45710, 13.40917 52.44218..."
      ]
     },
     "execution_count": 30,
     "metadata": {},
     "output_type": "execute_result"
    }
   ],
   "source": [
    "df = gpd.read_file(\"../data/berlin-regions.geojson\")\n",
    "df"
   ]
  },
  {
   "cell_type": "code",
   "execution_count": 31,
   "id": "68ebc504-846c-4393-947a-5b5ebf3047d8",
   "metadata": {},
   "outputs": [
    {
     "data": {
      "text/html": [
       "<div>\n",
       "<style scoped>\n",
       "    .dataframe tbody tr th:only-of-type {\n",
       "        vertical-align: middle;\n",
       "    }\n",
       "\n",
       "    .dataframe tbody tr th {\n",
       "        vertical-align: top;\n",
       "    }\n",
       "\n",
       "    .dataframe thead th {\n",
       "        text-align: right;\n",
       "    }\n",
       "</style>\n",
       "<table border=\"1\" class=\"dataframe\">\n",
       "  <thead>\n",
       "    <tr style=\"text-align: right;\">\n",
       "      <th></th>\n",
       "      <th>geometry</th>\n",
       "      <th>name</th>\n",
       "    </tr>\n",
       "  </thead>\n",
       "  <tbody>\n",
       "    <tr>\n",
       "      <th>0</th>\n",
       "      <td>POLYGON ((13.23704 52.59549, 13.17649 52.56324...</td>\n",
       "      <td>0</td>\n",
       "    </tr>\n",
       "    <tr>\n",
       "      <th>1</th>\n",
       "      <td>POLYGON ((13.31454 52.58959, 13.33837 52.51526...</td>\n",
       "      <td>1</td>\n",
       "    </tr>\n",
       "    <tr>\n",
       "      <th>2</th>\n",
       "      <td>POLYGON ((13.51302 52.57112, 13.46440 52.55958...</td>\n",
       "      <td>2</td>\n",
       "    </tr>\n",
       "    <tr>\n",
       "      <th>3</th>\n",
       "      <td>POLYGON ((13.18972 52.49950, 13.13450 52.45944...</td>\n",
       "      <td>3</td>\n",
       "    </tr>\n",
       "    <tr>\n",
       "      <th>4</th>\n",
       "      <td>POLYGON ((13.32353 52.52612, 13.26636 52.48427...</td>\n",
       "      <td>4</td>\n",
       "    </tr>\n",
       "    <tr>\n",
       "      <th>5</th>\n",
       "      <td>POLYGON ((13.52412 52.57244, 13.55260 52.55127...</td>\n",
       "      <td>5</td>\n",
       "    </tr>\n",
       "    <tr>\n",
       "      <th>6</th>\n",
       "      <td>POLYGON ((13.59221 52.49677, 13.48497 52.42125...</td>\n",
       "      <td>6</td>\n",
       "    </tr>\n",
       "    <tr>\n",
       "      <th>7</th>\n",
       "      <td>POLYGON ((13.64111 52.46174, 13.67090 52.43806...</td>\n",
       "      <td>7</td>\n",
       "    </tr>\n",
       "    <tr>\n",
       "      <th>8</th>\n",
       "      <td>POLYGON ((13.39410 52.45710, 13.40917 52.44218...</td>\n",
       "      <td>8</td>\n",
       "    </tr>\n",
       "  </tbody>\n",
       "</table>\n",
       "</div>"
      ],
      "text/plain": [
       "                                            geometry  name\n",
       "0  POLYGON ((13.23704 52.59549, 13.17649 52.56324...     0\n",
       "1  POLYGON ((13.31454 52.58959, 13.33837 52.51526...     1\n",
       "2  POLYGON ((13.51302 52.57112, 13.46440 52.55958...     2\n",
       "3  POLYGON ((13.18972 52.49950, 13.13450 52.45944...     3\n",
       "4  POLYGON ((13.32353 52.52612, 13.26636 52.48427...     4\n",
       "5  POLYGON ((13.52412 52.57244, 13.55260 52.55127...     5\n",
       "6  POLYGON ((13.59221 52.49677, 13.48497 52.42125...     6\n",
       "7  POLYGON ((13.64111 52.46174, 13.67090 52.43806...     7\n",
       "8  POLYGON ((13.39410 52.45710, 13.40917 52.44218...     8"
      ]
     },
     "execution_count": 31,
     "metadata": {},
     "output_type": "execute_result"
    }
   ],
   "source": [
    "if not 'name' in df.columns:\n",
    "    df[\"name\"] = df.index\n",
    "df"
   ]
  },
  {
   "cell_type": "code",
   "execution_count": 33,
   "id": "1e57b897-d9d9-471d-ba9d-cd6bbafa2dd8",
   "metadata": {},
   "outputs": [
    {
     "data": {
      "text/plain": [
       "geopandas.geodataframe.GeoDataFrame"
      ]
     },
     "execution_count": 33,
     "metadata": {},
     "output_type": "execute_result"
    }
   ],
   "source": [
    "type(df)"
   ]
  },
  {
   "cell_type": "code",
   "execution_count": null,
   "id": "d09fde96-b38f-4310-9cb2-408133e87da0",
   "metadata": {},
   "outputs": [],
   "source": []
  }
 ],
 "metadata": {
  "kernelspec": {
   "display_name": "Python 3 (ipykernel)",
   "language": "python",
   "name": "python3"
  },
  "language_info": {
   "codemirror_mode": {
    "name": "ipython",
    "version": 3
   },
   "file_extension": ".py",
   "mimetype": "text/x-python",
   "name": "python",
   "nbconvert_exporter": "python",
   "pygments_lexer": "ipython3",
   "version": "3.11.0"
  }
 },
 "nbformat": 4,
 "nbformat_minor": 5
}
