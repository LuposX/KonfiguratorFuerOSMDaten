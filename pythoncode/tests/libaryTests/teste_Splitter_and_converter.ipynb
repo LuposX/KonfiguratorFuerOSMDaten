{
 "cells": [
  {
   "cell_type": "markdown",
   "id": "2c32d1d7-749c-44dc-8ff2-e23a20ab5e7f",
   "metadata": {},
   "source": [
    "## Converting files\n",
    "  \n",
    "In order to split the fiels we need the command line tool, \"osmium-tool\". In order to call it, we need to create a process which will be our shell in which we then execute the command:\n",
    "\n",
    "The output files of these operations will be in the build folder."
   ]
  },
  {
   "cell_type": "code",
   "execution_count": 1,
   "id": "6ceb4b2c-7f66-4736-8179-955783455f58",
   "metadata": {},
   "outputs": [],
   "source": [
    "import subprocess"
   ]
  },
  {
   "cell_type": "code",
   "execution_count": 2,
   "id": "23cba371-8f51-46a1-ac6f-6659320ef024",
   "metadata": {},
   "outputs": [
    {
     "name": "stdout",
     "output_type": "stream",
     "text": [
      "rt: 1  stout:   stderr: Open failed for 'build/andorra-latest.osm.bz2': File exists. Try using --overwrite if you are sure you want to overwrite the file.\n",
      "\n"
     ]
    }
   ],
   "source": [
    "result = subprocess.run([\"osmium\", \"cat\", \"../../data/andorra-latest.osm.pbf\", \"-o\", \"build/andorra-latest.osm.bz2\"], stdout=subprocess.PIPE, stderr=subprocess.PIPE, text=True)\n",
    "print(\"rt: \" + str(result.returncode), \" stout: \" + str(result.stdout), \" stderr: \" + str(result.stderr))"
   ]
  },
  {
   "cell_type": "markdown",
   "id": "4ee3b517-50c8-468e-99ff-17b7ff68b9d1",
   "metadata": {},
   "source": [
    "## Splitting files\n",
    "\n",
    "first we need to get the boundaries where we want to splitt."
   ]
  },
  {
   "cell_type": "code",
   "execution_count": 3,
   "id": "321d0cf8-2fb1-4506-9f18-01d370c4b791",
   "metadata": {},
   "outputs": [],
   "source": [
    "import shapely.geometry\n",
    "import geopandas as gpd"
   ]
  },
  {
   "cell_type": "code",
   "execution_count": 4,
   "id": "a6449f54-4b48-48f6-afe7-165749eac240",
   "metadata": {},
   "outputs": [
    {
     "data": {
      "text/html": [
       "<div>\n",
       "<style scoped>\n",
       "    .dataframe tbody tr th:only-of-type {\n",
       "        vertical-align: middle;\n",
       "    }\n",
       "\n",
       "    .dataframe tbody tr th {\n",
       "        vertical-align: top;\n",
       "    }\n",
       "\n",
       "    .dataframe thead th {\n",
       "        text-align: right;\n",
       "    }\n",
       "</style>\n",
       "<table border=\"1\" class=\"dataframe\">\n",
       "  <thead>\n",
       "    <tr style=\"text-align: right;\">\n",
       "      <th></th>\n",
       "      <th>name</th>\n",
       "      <th>geometry</th>\n",
       "    </tr>\n",
       "  </thead>\n",
       "  <tbody>\n",
       "    <tr>\n",
       "      <th>0</th>\n",
       "      <td>Karlsruher Zoogarten</td>\n",
       "      <td>POLYGON ((8.39751 49.00125, 8.39751 48.99546, ...</td>\n",
       "    </tr>\n",
       "    <tr>\n",
       "      <th>1</th>\n",
       "      <td>Karlsruher Schloss</td>\n",
       "      <td>POLYGON ((8.40366 49.01429, 8.40366 49.01293, ...</td>\n",
       "    </tr>\n",
       "  </tbody>\n",
       "</table>\n",
       "</div>"
      ],
      "text/plain": [
       "                   name                                           geometry\n",
       "0  Karlsruher Zoogarten  POLYGON ((8.39751 49.00125, 8.39751 48.99546, ...\n",
       "1    Karlsruher Schloss  POLYGON ((8.40366 49.01429, 8.40366 49.01293, ..."
      ]
     },
     "execution_count": 4,
     "metadata": {},
     "output_type": "execute_result"
    }
   ],
   "source": [
    "df = gpd.read_file(\"../../data/partOfKarlsruhe.geojson\")\n",
    "df"
   ]
  },
  {
   "cell_type": "code",
   "execution_count": 5,
   "id": "53768957-5711-4dfd-9f0f-2427b93b1b94",
   "metadata": {},
   "outputs": [
    {
     "name": "stdout",
     "output_type": "stream",
     "text": [
      "(8.397510788990758, 48.995461248085746, 8.404349677102857, 49.001250747933796)\n",
      "(8.403658847876358, 49.0129289386455, 8.405790839890244, 49.01428842653314)\n"
     ]
    }
   ],
   "source": [
    "## Get the coordinates\n",
    "print(df[\"geometry\"][0].bounds)\n",
    "print(df[\"geometry\"][1].bounds)"
   ]
  },
  {
   "cell_type": "code",
   "execution_count": 6,
   "id": "e20d092c-4ce2-46de-91b2-b09a4e8f9132",
   "metadata": {},
   "outputs": [
    {
     "data": {
      "text/plain": [
       "'8.397510788990758,48.995461248085746,8.404349677102857,49.001250747933796'"
      ]
     },
     "execution_count": 6,
     "metadata": {},
     "output_type": "execute_result"
    }
   ],
   "source": [
    "# Format the string correctly\n",
    "\"{},{},{},{}\".format(*df[\"geometry\"][0].bounds)"
   ]
  },
  {
   "cell_type": "code",
   "execution_count": 7,
   "id": "3e683a96-a169-463a-9fa0-5323bbb0c3e1",
   "metadata": {},
   "outputs": [
    {
     "name": "stdout",
     "output_type": "stream",
     "text": [
      "rt: 1  stout:   stderr: Open failed for 'build/resultsplittedKarlsruhe.pbf': File exists. Try using --overwrite if you are sure you want to overwrite the file.\n",
      "\n"
     ]
    }
   ],
   "source": [
    "# splitting the file\n",
    "result = subprocess.run([\"osmium\", \"extract\", \"-b\", \"{},{},{},{}\".format(*df[\"geometry\"][0].bounds), \"build/Karlsruhe.osm.pbf\", \"-o\", \"build/resultsplittedKarlsruhe.pbf\"], stdout=subprocess.PIPE, stderr=subprocess.PIPE, text=True)\n",
    "print(\"rt: \" + str(result.returncode), \" stout: \" + str(result.stdout), \" stderr: \" + str(result.stderr))"
   ]
  },
  {
   "cell_type": "code",
   "execution_count": null,
   "id": "d5d51d02-c66f-4b67-a530-399f240867d7",
   "metadata": {},
   "outputs": [],
   "source": []
  }
 ],
 "metadata": {
  "kernelspec": {
   "display_name": "Python 3 (ipykernel)",
   "language": "python",
   "name": "python3"
  },
  "language_info": {
   "codemirror_mode": {
    "name": "ipython",
    "version": 3
   },
   "file_extension": ".py",
   "mimetype": "text/x-python",
   "name": "python",
   "nbconvert_exporter": "python",
   "pygments_lexer": "ipython3",
   "version": "3.8.15"
  }
 },
 "nbformat": 4,
 "nbformat_minor": 5
}
