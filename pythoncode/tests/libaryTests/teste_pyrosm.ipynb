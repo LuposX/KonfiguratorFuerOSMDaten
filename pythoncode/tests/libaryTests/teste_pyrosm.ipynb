{
 "cells": [
  {
   "cell_type": "markdown",
   "id": "4197fbdb-ed9b-46a2-baba-4c21ef556618",
   "metadata": {},
   "source": [
    "# Download Data\n",
    "Example of how to downlaod data with pyrosmfrom pyrosm import get_data"
   ]
  },
  {
   "cell_type": "code",
   "execution_count": 1,
   "id": "3bca9ac4-69b6-4cbf-bbe3-e653472778b6",
   "metadata": {},
   "outputs": [],
   "source": [
    "import pyrosm as pyo\n",
    "import shapely.geometry"
   ]
  },
  {
   "cell_type": "code",
   "execution_count": 3,
   "id": "81084f29-2af5-4355-9836-aa5e892dceaa",
   "metadata": {},
   "outputs": [
    {
     "name": "stdout",
     "output_type": "stream",
     "text": [
      "Type of 'osm' instance:  <class 'pyrosm.pyrosm.OSM'>\n"
     ]
    }
   ],
   "source": [
    "# initalize parser\n",
    "osm = pyo.OSM(\"../../data/andorra-latest.osm.pbf\")\n",
    "\n",
    "# See the type\n",
    "print(\"Type of 'osm' instance: \", type(osm))"
   ]
  },
  {
   "cell_type": "code",
   "execution_count": 6,
   "id": "190f30f1-0934-4cf6-80d7-ab8a90008abe",
   "metadata": {},
   "outputs": [
    {
     "name": "stderr",
     "output_type": "stream",
     "text": [
      "/home/lupos/miniconda3/envs/PSE/lib/python3.8/site-packages/geopandas/array.py:1406: UserWarning: CRS not set for some of the concatenation inputs. Setting output's CRS as WGS 84 (the single non-null crs provided).\n",
      "  warnings.warn(\n"
     ]
    }
   ],
   "source": [
    "custom_filter = {'amenity': True, \"shop\": True}\n",
    "\n",
    "buildings = osm.get_buildings(custom_filter)"
   ]
  },
  {
   "cell_type": "code",
   "execution_count": 7,
   "id": "f530957a-4578-41bd-a851-a4c331a703cb",
   "metadata": {},
   "outputs": [
    {
     "data": {
      "text/html": [
       "<div>\n",
       "<style scoped>\n",
       "    .dataframe tbody tr th:only-of-type {\n",
       "        vertical-align: middle;\n",
       "    }\n",
       "\n",
       "    .dataframe tbody tr th {\n",
       "        vertical-align: top;\n",
       "    }\n",
       "\n",
       "    .dataframe thead th {\n",
       "        text-align: right;\n",
       "    }\n",
       "</style>\n",
       "<table border=\"1\" class=\"dataframe\">\n",
       "  <thead>\n",
       "    <tr style=\"text-align: right;\">\n",
       "      <th></th>\n",
       "      <th>addr:city</th>\n",
       "      <th>addr:country</th>\n",
       "      <th>addr:housenumber</th>\n",
       "      <th>addr:postcode</th>\n",
       "      <th>addr:place</th>\n",
       "      <th>addr:street</th>\n",
       "      <th>email</th>\n",
       "      <th>name</th>\n",
       "      <th>opening_hours</th>\n",
       "      <th>operator</th>\n",
       "      <th>...</th>\n",
       "      <th>source</th>\n",
       "      <th>start_date</th>\n",
       "      <th>wikipedia</th>\n",
       "      <th>id</th>\n",
       "      <th>timestamp</th>\n",
       "      <th>version</th>\n",
       "      <th>geometry</th>\n",
       "      <th>tags</th>\n",
       "      <th>osm_type</th>\n",
       "      <th>changeset</th>\n",
       "    </tr>\n",
       "  </thead>\n",
       "  <tbody>\n",
       "    <tr>\n",
       "      <th>0</th>\n",
       "      <td>None</td>\n",
       "      <td>None</td>\n",
       "      <td>None</td>\n",
       "      <td>None</td>\n",
       "      <td>None</td>\n",
       "      <td>None</td>\n",
       "      <td>None</td>\n",
       "      <td>None</td>\n",
       "      <td>None</td>\n",
       "      <td>None</td>\n",
       "      <td>...</td>\n",
       "      <td>None</td>\n",
       "      <td>None</td>\n",
       "      <td>None</td>\n",
       "      <td>6181327</td>\n",
       "      <td>1399068462</td>\n",
       "      <td>2</td>\n",
       "      <td>POLYGON ((1.73234 42.54323, 1.73247 42.54287, ...</td>\n",
       "      <td>None</td>\n",
       "      <td>way</td>\n",
       "      <td>NaN</td>\n",
       "    </tr>\n",
       "    <tr>\n",
       "      <th>1</th>\n",
       "      <td>None</td>\n",
       "      <td>None</td>\n",
       "      <td>None</td>\n",
       "      <td>None</td>\n",
       "      <td>None</td>\n",
       "      <td>None</td>\n",
       "      <td>None</td>\n",
       "      <td>None</td>\n",
       "      <td>None</td>\n",
       "      <td>None</td>\n",
       "      <td>...</td>\n",
       "      <td>None</td>\n",
       "      <td>None</td>\n",
       "      <td>None</td>\n",
       "      <td>6181618</td>\n",
       "      <td>1665325214</td>\n",
       "      <td>6</td>\n",
       "      <td>POLYGON ((1.73317 42.53872, 1.73324 42.53874, ...</td>\n",
       "      <td>{\"fee\":\"yes\"}</td>\n",
       "      <td>way</td>\n",
       "      <td>NaN</td>\n",
       "    </tr>\n",
       "    <tr>\n",
       "      <th>2</th>\n",
       "      <td>None</td>\n",
       "      <td>None</td>\n",
       "      <td>None</td>\n",
       "      <td>None</td>\n",
       "      <td>None</td>\n",
       "      <td>None</td>\n",
       "      <td>None</td>\n",
       "      <td>Aparcament comunal Bonavista</td>\n",
       "      <td>None</td>\n",
       "      <td>None</td>\n",
       "      <td>...</td>\n",
       "      <td>None</td>\n",
       "      <td>None</td>\n",
       "      <td>None</td>\n",
       "      <td>6184947</td>\n",
       "      <td>1669419022</td>\n",
       "      <td>5</td>\n",
       "      <td>POLYGON ((1.51183 42.50346, 1.51206 42.50321, ...</td>\n",
       "      <td>{\"capacity\":\"115\",\"name:ca\":\"Aparcament comuna...</td>\n",
       "      <td>way</td>\n",
       "      <td>NaN</td>\n",
       "    </tr>\n",
       "    <tr>\n",
       "      <th>3</th>\n",
       "      <td>None</td>\n",
       "      <td>None</td>\n",
       "      <td>None</td>\n",
       "      <td>None</td>\n",
       "      <td>None</td>\n",
       "      <td>None</td>\n",
       "      <td>None</td>\n",
       "      <td>Aparcament Comunal Parc Central</td>\n",
       "      <td>None</td>\n",
       "      <td>None</td>\n",
       "      <td>...</td>\n",
       "      <td>None</td>\n",
       "      <td>None</td>\n",
       "      <td>None</td>\n",
       "      <td>6185710</td>\n",
       "      <td>1669419024</td>\n",
       "      <td>10</td>\n",
       "      <td>POLYGON ((1.52746 42.50666, 1.52784 42.50721, ...</td>\n",
       "      <td>{\"access\":\"yes\",\"fee\":\"yes\",\"name:ca\":\"Aparcam...</td>\n",
       "      <td>way</td>\n",
       "      <td>NaN</td>\n",
       "    </tr>\n",
       "    <tr>\n",
       "      <th>4</th>\n",
       "      <td>None</td>\n",
       "      <td>None</td>\n",
       "      <td>None</td>\n",
       "      <td>None</td>\n",
       "      <td>None</td>\n",
       "      <td>None</td>\n",
       "      <td>None</td>\n",
       "      <td>None</td>\n",
       "      <td>None</td>\n",
       "      <td>Hipermercat Andorra 2000</td>\n",
       "      <td>...</td>\n",
       "      <td>None</td>\n",
       "      <td>None</td>\n",
       "      <td>None</td>\n",
       "      <td>6275503</td>\n",
       "      <td>1652610698</td>\n",
       "      <td>6</td>\n",
       "      <td>POLYGON ((1.53216 42.50600, 1.53206 42.50597, ...</td>\n",
       "      <td>{\"access\":\"customers\",\"fee\":\"no\",\"parking\":\"su...</td>\n",
       "      <td>way</td>\n",
       "      <td>NaN</td>\n",
       "    </tr>\n",
       "  </tbody>\n",
       "</table>\n",
       "<p>5 rows × 33 columns</p>\n",
       "</div>"
      ],
      "text/plain": [
       "  addr:city addr:country addr:housenumber addr:postcode addr:place  \\\n",
       "0      None         None             None          None       None   \n",
       "1      None         None             None          None       None   \n",
       "2      None         None             None          None       None   \n",
       "3      None         None             None          None       None   \n",
       "4      None         None             None          None       None   \n",
       "\n",
       "  addr:street email                             name opening_hours  \\\n",
       "0        None  None                             None          None   \n",
       "1        None  None                             None          None   \n",
       "2        None  None     Aparcament comunal Bonavista          None   \n",
       "3        None  None  Aparcament Comunal Parc Central          None   \n",
       "4        None  None                             None          None   \n",
       "\n",
       "                   operator  ... source start_date wikipedia       id  \\\n",
       "0                      None  ...   None       None      None  6181327   \n",
       "1                      None  ...   None       None      None  6181618   \n",
       "2                      None  ...   None       None      None  6184947   \n",
       "3                      None  ...   None       None      None  6185710   \n",
       "4  Hipermercat Andorra 2000  ...   None       None      None  6275503   \n",
       "\n",
       "    timestamp version                                           geometry  \\\n",
       "0  1399068462       2  POLYGON ((1.73234 42.54323, 1.73247 42.54287, ...   \n",
       "1  1665325214       6  POLYGON ((1.73317 42.53872, 1.73324 42.53874, ...   \n",
       "2  1669419022       5  POLYGON ((1.51183 42.50346, 1.51206 42.50321, ...   \n",
       "3  1669419024      10  POLYGON ((1.52746 42.50666, 1.52784 42.50721, ...   \n",
       "4  1652610698       6  POLYGON ((1.53216 42.50600, 1.53206 42.50597, ...   \n",
       "\n",
       "                                                tags osm_type changeset  \n",
       "0                                               None      way       NaN  \n",
       "1                                      {\"fee\":\"yes\"}      way       NaN  \n",
       "2  {\"capacity\":\"115\",\"name:ca\":\"Aparcament comuna...      way       NaN  \n",
       "3  {\"access\":\"yes\",\"fee\":\"yes\",\"name:ca\":\"Aparcam...      way       NaN  \n",
       "4  {\"access\":\"customers\",\"fee\":\"no\",\"parking\":\"su...      way       NaN  \n",
       "\n",
       "[5 rows x 33 columns]"
      ]
     },
     "execution_count": 7,
     "metadata": {},
     "output_type": "execute_result"
    }
   ],
   "source": [
    "buildings.head()"
   ]
  },
  {
   "cell_type": "markdown",
   "id": "1e86bc0b-e13e-4cdb-8229-6fa1ea92aa3b",
   "metadata": {},
   "source": [
    "## working with the dataframe\n",
    "we will now try to work with the dataframe of buildings previously defined.\n",
    "And see if we can parse information obout it."
   ]
  },
  {
   "cell_type": "code",
   "execution_count": 13,
   "id": "8c31d6de-1b90-477f-b267-832dafbe7a69",
   "metadata": {},
   "outputs": [
    {
     "data": {
      "text/plain": [
       "addr:city                                                        None\n",
       "addr:country                                                     None\n",
       "addr:housenumber                                                 None\n",
       "addr:postcode                                                    None\n",
       "addr:place                                                       None\n",
       "addr:street                                                      None\n",
       "email                                                            None\n",
       "name                                                             None\n",
       "opening_hours                                                    None\n",
       "operator                                                         None\n",
       "phone                                                            None\n",
       "ref                                                              None\n",
       "url                                                              None\n",
       "website                                                          None\n",
       "building                                                         None\n",
       "amenity                                                       parking\n",
       "building:levels                                                  None\n",
       "craft                                                            None\n",
       "height                                                           None\n",
       "internet_access                                                  None\n",
       "landuse                                                          None\n",
       "office                                                           None\n",
       "shop                                                             None\n",
       "source                                                           None\n",
       "start_date                                                       None\n",
       "wikipedia                                                        None\n",
       "id                                                            6181327\n",
       "timestamp                                                  1399068462\n",
       "version                                                             2\n",
       "geometry            POLYGON ((1.7323359 42.5432261, 1.7324725 42.5...\n",
       "tags                                                             None\n",
       "osm_type                                                          way\n",
       "changeset                                                         NaN\n",
       "Name: 0, dtype: object"
      ]
     },
     "execution_count": 13,
     "metadata": {},
     "output_type": "execute_result"
    }
   ],
   "source": [
    "# get first row \n",
    "buildings.iloc[0]"
   ]
  },
  {
   "cell_type": "code",
   "execution_count": 14,
   "id": "a393d3e5-0c7c-4a27-ab83-cd36e2f6109f",
   "metadata": {},
   "outputs": [
    {
     "data": {
      "text/plain": [
       "'parking'"
      ]
     },
     "execution_count": 14,
     "metadata": {},
     "output_type": "execute_result"
    }
   ],
   "source": [
    "# lets get tthe type of building\n",
    "buildings[\"amenity\"].iloc[0]"
   ]
  },
  {
   "cell_type": "code",
   "execution_count": null,
   "id": "741847c5-0595-4d59-b02b-640e0933c73b",
   "metadata": {},
   "outputs": [],
   "source": []
  }
 ],
 "metadata": {
  "kernelspec": {
   "display_name": "Python 3 (ipykernel)",
   "language": "python",
   "name": "python3"
  },
  "language_info": {
   "codemirror_mode": {
    "name": "ipython",
    "version": 3
   },
   "file_extension": ".py",
   "mimetype": "text/x-python",
   "name": "python",
   "nbconvert_exporter": "python",
   "pygments_lexer": "ipython3",
   "version": "3.8.15"
  }
 },
 "nbformat": 4,
 "nbformat_minor": 5
}
