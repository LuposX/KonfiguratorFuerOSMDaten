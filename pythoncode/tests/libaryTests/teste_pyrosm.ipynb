{
 "cells": [
  {
   "cell_type": "markdown",
   "id": "4197fbdb-ed9b-46a2-baba-4c21ef556618",
   "metadata": {},
   "source": [
    "# Download Data\n",
    "Example of how to downlaod data with pyrosmfrom pyrosm import get_data"
   ]
  },
  {
   "cell_type": "code",
   "execution_count": 7,
   "id": "3bca9ac4-69b6-4cbf-bbe3-e653472778b6",
   "metadata": {},
   "outputs": [],
   "source": [
    "import pyrosm as pyo\n",
    "import shapely.geometry"
   ]
  },
  {
   "cell_type": "code",
   "execution_count": 13,
   "id": "c58f1334-6c2a-4a52-b59c-bb4bdb320859",
   "metadata": {},
   "outputs": [
    {
     "ename": "AttributeError",
     "evalue": "module 'numpy' has no attribute 'float'",
     "output_type": "error",
     "traceback": [
      "\u001b[1;31m---------------------------------------------------------------------------\u001b[0m",
      "\u001b[1;31mAttributeError\u001b[0m                            Traceback (most recent call last)",
      "Cell \u001b[1;32mIn[13], line 6\u001b[0m\n\u001b[0;32m      4\u001b[0m \u001b[38;5;66;03m# load muenchen\u001b[39;00m\n\u001b[0;32m      5\u001b[0m osmMue \u001b[38;5;241m=\u001b[39m pyo\u001b[38;5;241m.\u001b[39mOSM(fp)\n\u001b[1;32m----> 6\u001b[0m buildings \u001b[38;5;241m=\u001b[39m \u001b[43mosmMue\u001b[49m\u001b[38;5;241;43m.\u001b[39;49m\u001b[43mget_buildings\u001b[49m\u001b[43m(\u001b[49m\u001b[43mcustom_filter\u001b[49m\u001b[43m)\u001b[49m\n",
      "File \u001b[1;32m~\\miniconda3\\envs\\PSE\\lib\\site-packages\\pyrosm\\pyrosm.py:265\u001b[0m, in \u001b[0;36mOSM.get_buildings\u001b[1;34m(self, custom_filter, extra_attributes)\u001b[0m\n\u001b[0;32m    262\u001b[0m \u001b[38;5;28;01mif\u001b[39;00m \u001b[38;5;28mself\u001b[39m\u001b[38;5;241m.\u001b[39m_nodes \u001b[38;5;129;01mis\u001b[39;00m \u001b[38;5;28;01mNone\u001b[39;00m \u001b[38;5;129;01mor\u001b[39;00m \u001b[38;5;28mself\u001b[39m\u001b[38;5;241m.\u001b[39m_way_records \u001b[38;5;129;01mis\u001b[39;00m \u001b[38;5;28;01mNone\u001b[39;00m:\n\u001b[0;32m    263\u001b[0m     \u001b[38;5;28mself\u001b[39m\u001b[38;5;241m.\u001b[39m_read_pbf()\n\u001b[1;32m--> 265\u001b[0m gdf \u001b[38;5;241m=\u001b[39m \u001b[43mget_building_data\u001b[49m\u001b[43m(\u001b[49m\n\u001b[0;32m    266\u001b[0m \u001b[43m    \u001b[49m\u001b[38;5;28;43mself\u001b[39;49m\u001b[38;5;241;43m.\u001b[39;49m\u001b[43m_node_coordinates\u001b[49m\u001b[43m,\u001b[49m\n\u001b[0;32m    267\u001b[0m \u001b[43m    \u001b[49m\u001b[38;5;28;43mself\u001b[39;49m\u001b[38;5;241;43m.\u001b[39;49m\u001b[43m_way_records\u001b[49m\u001b[43m,\u001b[49m\n\u001b[0;32m    268\u001b[0m \u001b[43m    \u001b[49m\u001b[38;5;28;43mself\u001b[39;49m\u001b[38;5;241;43m.\u001b[39;49m\u001b[43m_relations\u001b[49m\u001b[43m,\u001b[49m\n\u001b[0;32m    269\u001b[0m \u001b[43m    \u001b[49m\u001b[43mtags_as_columns\u001b[49m\u001b[43m,\u001b[49m\n\u001b[0;32m    270\u001b[0m \u001b[43m    \u001b[49m\u001b[43mcustom_filter\u001b[49m\u001b[43m,\u001b[49m\n\u001b[0;32m    271\u001b[0m \u001b[43m    \u001b[49m\u001b[38;5;28;43mself\u001b[39;49m\u001b[38;5;241;43m.\u001b[39;49m\u001b[43mbounding_box\u001b[49m\u001b[43m,\u001b[49m\n\u001b[0;32m    272\u001b[0m \u001b[43m\u001b[49m\u001b[43m)\u001b[49m\n\u001b[0;32m    274\u001b[0m \u001b[38;5;66;03m# Do not keep node information unless specifically asked for\u001b[39;00m\n\u001b[0;32m    275\u001b[0m \u001b[38;5;66;03m# (they are in a list, and can cause issues when saving the files)\u001b[39;00m\n\u001b[0;32m    276\u001b[0m \u001b[38;5;28;01mif\u001b[39;00m \u001b[38;5;129;01mnot\u001b[39;00m \u001b[38;5;28mself\u001b[39m\u001b[38;5;241m.\u001b[39mkeep_node_info \u001b[38;5;129;01mand\u001b[39;00m gdf \u001b[38;5;129;01mis\u001b[39;00m \u001b[38;5;129;01mnot\u001b[39;00m \u001b[38;5;28;01mNone\u001b[39;00m:\n",
      "File \u001b[1;32m~\\miniconda3\\envs\\PSE\\lib\\site-packages\\pyrosm\\buildings.py:47\u001b[0m, in \u001b[0;36mget_building_data\u001b[1;34m(node_coordinates, way_records, relations, tags_as_columns, custom_filter, bounding_box)\u001b[0m\n\u001b[0;32m     44\u001b[0m     \u001b[38;5;28;01mreturn\u001b[39;00m \u001b[38;5;28;01mNone\u001b[39;00m\n\u001b[0;32m     46\u001b[0m \u001b[38;5;66;03m# Prepare GeoDataFrame\u001b[39;00m\n\u001b[1;32m---> 47\u001b[0m gdf \u001b[38;5;241m=\u001b[39m \u001b[43mprepare_geodataframe\u001b[49m\u001b[43m(\u001b[49m\n\u001b[0;32m     48\u001b[0m \u001b[43m    \u001b[49m\u001b[43mnodes\u001b[49m\u001b[43m,\u001b[49m\n\u001b[0;32m     49\u001b[0m \u001b[43m    \u001b[49m\u001b[43mnode_coordinates\u001b[49m\u001b[43m,\u001b[49m\n\u001b[0;32m     50\u001b[0m \u001b[43m    \u001b[49m\u001b[43mways\u001b[49m\u001b[43m,\u001b[49m\n\u001b[0;32m     51\u001b[0m \u001b[43m    \u001b[49m\u001b[43mrelations\u001b[49m\u001b[43m,\u001b[49m\n\u001b[0;32m     52\u001b[0m \u001b[43m    \u001b[49m\u001b[43mrelation_ways\u001b[49m\u001b[43m,\u001b[49m\n\u001b[0;32m     53\u001b[0m \u001b[43m    \u001b[49m\u001b[43mtags_as_columns\u001b[49m\u001b[43m,\u001b[49m\n\u001b[0;32m     54\u001b[0m \u001b[43m    \u001b[49m\u001b[43mbounding_box\u001b[49m\u001b[43m,\u001b[49m\n\u001b[0;32m     55\u001b[0m \u001b[43m\u001b[49m\u001b[43m)\u001b[49m\n\u001b[0;32m     56\u001b[0m \u001b[38;5;28;01mreturn\u001b[39;00m gdf\n",
      "File \u001b[1;32m~\\miniconda3\\envs\\PSE\\lib\\site-packages\\pyrosm\\frames.pyx:134\u001b[0m, in \u001b[0;36mpyrosm.frames.prepare_geodataframe\u001b[1;34m()\u001b[0m\n",
      "File \u001b[1;32m~\\miniconda3\\envs\\PSE\\lib\\site-packages\\pyrosm\\frames.pyx:141\u001b[0m, in \u001b[0;36mpyrosm.frames.prepare_geodataframe\u001b[1;34m()\u001b[0m\n",
      "File \u001b[1;32m~\\miniconda3\\envs\\PSE\\lib\\site-packages\\pyrosm\\frames.pyx:54\u001b[0m, in \u001b[0;36mpyrosm.frames.prepare_way_gdf\u001b[1;34m()\u001b[0m\n",
      "File \u001b[1;32m~\\miniconda3\\envs\\PSE\\lib\\site-packages\\pyrosm\\geometry.pyx:431\u001b[0m, in \u001b[0;36mpyrosm.geometry.create_way_geometries\u001b[1;34m()\u001b[0m\n",
      "File \u001b[1;32m~\\miniconda3\\envs\\PSE\\lib\\site-packages\\pyrosm\\geometry.pyx:405\u001b[0m, in \u001b[0;36mpyrosm.geometry._create_way_geometries\u001b[1;34m()\u001b[0m\n",
      "File \u001b[1;32m~\\miniconda3\\envs\\PSE\\lib\\site-packages\\pyrosm\\geometry.pyx:330\u001b[0m, in \u001b[0;36mpyrosm.geometry.create_linestring_geometry\u001b[1;34m()\u001b[0m\n",
      "File \u001b[1;32m~\\miniconda3\\envs\\PSE\\lib\\site-packages\\pyrosm\\geometry.pyx:312\u001b[0m, in \u001b[0;36mpyrosm.geometry.create_linestring_geometry\u001b[1;34m()\u001b[0m\n",
      "File \u001b[1;32m~\\miniconda3\\envs\\PSE\\lib\\site-packages\\numpy\\__init__.py:284\u001b[0m, in \u001b[0;36m__getattr__\u001b[1;34m(attr)\u001b[0m\n\u001b[0;32m    281\u001b[0m     \u001b[38;5;28;01mfrom\u001b[39;00m \u001b[38;5;21;01m.\u001b[39;00m\u001b[38;5;21;01mtesting\u001b[39;00m \u001b[38;5;28;01mimport\u001b[39;00m Tester\n\u001b[0;32m    282\u001b[0m     \u001b[38;5;28;01mreturn\u001b[39;00m Tester\n\u001b[1;32m--> 284\u001b[0m \u001b[38;5;28;01mraise\u001b[39;00m \u001b[38;5;167;01mAttributeError\u001b[39;00m(\u001b[38;5;124m\"\u001b[39m\u001b[38;5;124mmodule \u001b[39m\u001b[38;5;132;01m{!r}\u001b[39;00m\u001b[38;5;124m has no attribute \u001b[39m\u001b[38;5;124m\"\u001b[39m\n\u001b[0;32m    285\u001b[0m                      \u001b[38;5;124m\"\u001b[39m\u001b[38;5;132;01m{!r}\u001b[39;00m\u001b[38;5;124m\"\u001b[39m\u001b[38;5;241m.\u001b[39mformat(\u001b[38;5;18m__name__\u001b[39m, attr))\n",
      "\u001b[1;31mAttributeError\u001b[0m: module 'numpy' has no attribute 'float'"
     ]
    }
   ],
   "source": [
    "# get muenchen\n",
    "fp = pyo.get_data(\"muenchen\")\n",
    "\n",
    "# load muenchen\n",
    "# osmMue = pyo.OSM(fp)\n",
    "# buildings = osmMue.get_buildings(custom_filter)"
   ]
  },
  {
   "cell_type": "code",
   "execution_count": 8,
   "id": "81084f29-2af5-4355-9836-aa5e892dceaa",
   "metadata": {},
   "outputs": [
    {
     "name": "stdout",
     "output_type": "stream",
     "text": [
      "Type of 'osm' instance:  <class 'pyrosm.pyrosm.OSM'>\n"
     ]
    }
   ],
   "source": [
    "# initalize parser\n",
    "osm = pyo.OSM(\"../../data/antarctica-latest.osm.pbf\")\n",
    "\n",
    "# See the type\n",
    "print(\"Type of 'osm' instance: \", type(osm))"
   ]
  },
  {
   "cell_type": "code",
   "execution_count": 9,
   "id": "190f30f1-0934-4cf6-80d7-ab8a90008abe",
   "metadata": {},
   "outputs": [
    {
     "name": "stderr",
     "output_type": "stream",
     "text": [
      "C:\\Users\\schup\\miniconda3\\envs\\PSE\\lib\\site-packages\\geopandas\\array.py:1406: UserWarning: CRS not set for some of the concatenation inputs. Setting output's CRS as WGS 84 (the single non-null crs provided).\n",
      "  warnings.warn(\n"
     ]
    }
   ],
   "source": [
    "custom_filter = {'amenity': True, \"shop\": True}\n",
    "\n",
    "buildings = osm.get_buildings(custom_filter)"
   ]
  },
  {
   "cell_type": "code",
   "execution_count": 4,
   "id": "f530957a-4578-41bd-a851-a4c331a703cb",
   "metadata": {},
   "outputs": [
    {
     "data": {
      "text/html": [
       "<div>\n",
       "<style scoped>\n",
       "    .dataframe tbody tr th:only-of-type {\n",
       "        vertical-align: middle;\n",
       "    }\n",
       "\n",
       "    .dataframe tbody tr th {\n",
       "        vertical-align: top;\n",
       "    }\n",
       "\n",
       "    .dataframe thead th {\n",
       "        text-align: right;\n",
       "    }\n",
       "</style>\n",
       "<table border=\"1\" class=\"dataframe\">\n",
       "  <thead>\n",
       "    <tr style=\"text-align: right;\">\n",
       "      <th></th>\n",
       "      <th>addr:city</th>\n",
       "      <th>addr:country</th>\n",
       "      <th>addr:housenumber</th>\n",
       "      <th>addr:postcode</th>\n",
       "      <th>addr:place</th>\n",
       "      <th>addr:street</th>\n",
       "      <th>email</th>\n",
       "      <th>name</th>\n",
       "      <th>opening_hours</th>\n",
       "      <th>operator</th>\n",
       "      <th>...</th>\n",
       "      <th>source</th>\n",
       "      <th>start_date</th>\n",
       "      <th>wikipedia</th>\n",
       "      <th>id</th>\n",
       "      <th>timestamp</th>\n",
       "      <th>version</th>\n",
       "      <th>tags</th>\n",
       "      <th>osm_type</th>\n",
       "      <th>geometry</th>\n",
       "      <th>changeset</th>\n",
       "    </tr>\n",
       "  </thead>\n",
       "  <tbody>\n",
       "    <tr>\n",
       "      <th>0</th>\n",
       "      <td>None</td>\n",
       "      <td>None</td>\n",
       "      <td>None</td>\n",
       "      <td>None</td>\n",
       "      <td>None</td>\n",
       "      <td>None</td>\n",
       "      <td>None</td>\n",
       "      <td>None</td>\n",
       "      <td>None</td>\n",
       "      <td>None</td>\n",
       "      <td>...</td>\n",
       "      <td>None</td>\n",
       "      <td>None</td>\n",
       "      <td>None</td>\n",
       "      <td>6181327</td>\n",
       "      <td>1399068462</td>\n",
       "      <td>2</td>\n",
       "      <td>None</td>\n",
       "      <td>way</td>\n",
       "      <td>POLYGON ((1.73234 42.54323, 1.73247 42.54287, ...</td>\n",
       "      <td>NaN</td>\n",
       "    </tr>\n",
       "    <tr>\n",
       "      <th>1</th>\n",
       "      <td>None</td>\n",
       "      <td>None</td>\n",
       "      <td>None</td>\n",
       "      <td>None</td>\n",
       "      <td>None</td>\n",
       "      <td>None</td>\n",
       "      <td>None</td>\n",
       "      <td>None</td>\n",
       "      <td>None</td>\n",
       "      <td>None</td>\n",
       "      <td>...</td>\n",
       "      <td>None</td>\n",
       "      <td>None</td>\n",
       "      <td>None</td>\n",
       "      <td>6181618</td>\n",
       "      <td>1665325214</td>\n",
       "      <td>6</td>\n",
       "      <td>{\"fee\":\"yes\"}</td>\n",
       "      <td>way</td>\n",
       "      <td>POLYGON ((1.73317 42.53872, 1.73324 42.53874, ...</td>\n",
       "      <td>NaN</td>\n",
       "    </tr>\n",
       "    <tr>\n",
       "      <th>2</th>\n",
       "      <td>None</td>\n",
       "      <td>None</td>\n",
       "      <td>None</td>\n",
       "      <td>None</td>\n",
       "      <td>None</td>\n",
       "      <td>None</td>\n",
       "      <td>None</td>\n",
       "      <td>Aparcament comunal Bonavista</td>\n",
       "      <td>None</td>\n",
       "      <td>None</td>\n",
       "      <td>...</td>\n",
       "      <td>None</td>\n",
       "      <td>None</td>\n",
       "      <td>None</td>\n",
       "      <td>6184947</td>\n",
       "      <td>1669419022</td>\n",
       "      <td>5</td>\n",
       "      <td>{\"capacity\":\"115\",\"name:ca\":\"Aparcament comuna...</td>\n",
       "      <td>way</td>\n",
       "      <td>POLYGON ((1.51183 42.50346, 1.51206 42.50321, ...</td>\n",
       "      <td>NaN</td>\n",
       "    </tr>\n",
       "    <tr>\n",
       "      <th>3</th>\n",
       "      <td>None</td>\n",
       "      <td>None</td>\n",
       "      <td>None</td>\n",
       "      <td>None</td>\n",
       "      <td>None</td>\n",
       "      <td>None</td>\n",
       "      <td>None</td>\n",
       "      <td>Aparcament Comunal Parc Central</td>\n",
       "      <td>None</td>\n",
       "      <td>None</td>\n",
       "      <td>...</td>\n",
       "      <td>None</td>\n",
       "      <td>None</td>\n",
       "      <td>None</td>\n",
       "      <td>6185710</td>\n",
       "      <td>1669419024</td>\n",
       "      <td>10</td>\n",
       "      <td>{\"access\":\"yes\",\"fee\":\"yes\",\"name:ca\":\"Aparcam...</td>\n",
       "      <td>way</td>\n",
       "      <td>POLYGON ((1.52746 42.50666, 1.52784 42.50721, ...</td>\n",
       "      <td>NaN</td>\n",
       "    </tr>\n",
       "    <tr>\n",
       "      <th>4</th>\n",
       "      <td>None</td>\n",
       "      <td>None</td>\n",
       "      <td>None</td>\n",
       "      <td>None</td>\n",
       "      <td>None</td>\n",
       "      <td>None</td>\n",
       "      <td>None</td>\n",
       "      <td>None</td>\n",
       "      <td>None</td>\n",
       "      <td>Hipermercat Andorra 2000</td>\n",
       "      <td>...</td>\n",
       "      <td>None</td>\n",
       "      <td>None</td>\n",
       "      <td>None</td>\n",
       "      <td>6275503</td>\n",
       "      <td>1652610698</td>\n",
       "      <td>6</td>\n",
       "      <td>{\"access\":\"customers\",\"fee\":\"no\",\"parking\":\"su...</td>\n",
       "      <td>way</td>\n",
       "      <td>POLYGON ((1.53216 42.50600, 1.53206 42.50597, ...</td>\n",
       "      <td>NaN</td>\n",
       "    </tr>\n",
       "  </tbody>\n",
       "</table>\n",
       "<p>5 rows × 33 columns</p>\n",
       "</div>"
      ],
      "text/plain": [
       "  addr:city addr:country addr:housenumber addr:postcode addr:place  \\\n",
       "0      None         None             None          None       None   \n",
       "1      None         None             None          None       None   \n",
       "2      None         None             None          None       None   \n",
       "3      None         None             None          None       None   \n",
       "4      None         None             None          None       None   \n",
       "\n",
       "  addr:street email                             name opening_hours  \\\n",
       "0        None  None                             None          None   \n",
       "1        None  None                             None          None   \n",
       "2        None  None     Aparcament comunal Bonavista          None   \n",
       "3        None  None  Aparcament Comunal Parc Central          None   \n",
       "4        None  None                             None          None   \n",
       "\n",
       "                   operator  ... source start_date wikipedia       id  \\\n",
       "0                      None  ...   None       None      None  6181327   \n",
       "1                      None  ...   None       None      None  6181618   \n",
       "2                      None  ...   None       None      None  6184947   \n",
       "3                      None  ...   None       None      None  6185710   \n",
       "4  Hipermercat Andorra 2000  ...   None       None      None  6275503   \n",
       "\n",
       "    timestamp version                                               tags  \\\n",
       "0  1399068462       2                                               None   \n",
       "1  1665325214       6                                      {\"fee\":\"yes\"}   \n",
       "2  1669419022       5  {\"capacity\":\"115\",\"name:ca\":\"Aparcament comuna...   \n",
       "3  1669419024      10  {\"access\":\"yes\",\"fee\":\"yes\",\"name:ca\":\"Aparcam...   \n",
       "4  1652610698       6  {\"access\":\"customers\",\"fee\":\"no\",\"parking\":\"su...   \n",
       "\n",
       "  osm_type                                           geometry changeset  \n",
       "0      way  POLYGON ((1.73234 42.54323, 1.73247 42.54287, ...       NaN  \n",
       "1      way  POLYGON ((1.73317 42.53872, 1.73324 42.53874, ...       NaN  \n",
       "2      way  POLYGON ((1.51183 42.50346, 1.51206 42.50321, ...       NaN  \n",
       "3      way  POLYGON ((1.52746 42.50666, 1.52784 42.50721, ...       NaN  \n",
       "4      way  POLYGON ((1.53216 42.50600, 1.53206 42.50597, ...       NaN  \n",
       "\n",
       "[5 rows x 33 columns]"
      ]
     },
     "execution_count": 4,
     "metadata": {},
     "output_type": "execute_result"
    }
   ],
   "source": [
    "buildings.head()"
   ]
  },
  {
   "cell_type": "markdown",
   "id": "1e86bc0b-e13e-4cdb-8229-6fa1ea92aa3b",
   "metadata": {},
   "source": [
    "## working with the dataframe\n",
    "we will now try to work with the dataframe of buildings previously defined.\n",
    "And see if we can parse information obout it."
   ]
  },
  {
   "cell_type": "code",
   "execution_count": 5,
   "id": "8c31d6de-1b90-477f-b267-832dafbe7a69",
   "metadata": {},
   "outputs": [
    {
     "data": {
      "text/plain": [
       "addr:city                                                        None\n",
       "addr:country                                                     None\n",
       "addr:housenumber                                                 None\n",
       "addr:postcode                                                    None\n",
       "addr:place                                                       None\n",
       "addr:street                                                      None\n",
       "email                                                            None\n",
       "name                                                             None\n",
       "opening_hours                                                    None\n",
       "operator                                                         None\n",
       "phone                                                            None\n",
       "ref                                                              None\n",
       "url                                                              None\n",
       "website                                                          None\n",
       "building                                                         None\n",
       "amenity                                                       parking\n",
       "building:levels                                                  None\n",
       "craft                                                            None\n",
       "height                                                           None\n",
       "internet_access                                                  None\n",
       "landuse                                                          None\n",
       "office                                                           None\n",
       "shop                                                             None\n",
       "source                                                           None\n",
       "start_date                                                       None\n",
       "wikipedia                                                        None\n",
       "id                                                            6181327\n",
       "timestamp                                                  1399068462\n",
       "version                                                             2\n",
       "tags                                                             None\n",
       "osm_type                                                          way\n",
       "geometry            POLYGON ((1.7323359 42.5432261, 1.7324725 42.5...\n",
       "changeset                                                         NaN\n",
       "Name: 0, dtype: object"
      ]
     },
     "execution_count": 5,
     "metadata": {},
     "output_type": "execute_result"
    }
   ],
   "source": [
    "# get first row \n",
    "buildings.iloc[0]"
   ]
  },
  {
   "cell_type": "code",
   "execution_count": 6,
   "id": "a393d3e5-0c7c-4a27-ab83-cd36e2f6109f",
   "metadata": {},
   "outputs": [
    {
     "data": {
      "text/plain": [
       "'parking'"
      ]
     },
     "execution_count": 6,
     "metadata": {},
     "output_type": "execute_result"
    }
   ],
   "source": [
    "# lets get tthe type of building\n",
    "buildings[\"amenity\"].iloc[0]"
   ]
  },
  {
   "cell_type": "code",
   "execution_count": null,
   "id": "741847c5-0595-4d59-b02b-640e0933c73b",
   "metadata": {},
   "outputs": [],
   "source": []
  }
 ],
 "metadata": {
  "kernelspec": {
   "display_name": "Python 3 (ipykernel)",
   "language": "python",
   "name": "python3"
  },
  "language_info": {
   "codemirror_mode": {
    "name": "ipython",
    "version": 3
   },
   "file_extension": ".py",
   "mimetype": "text/x-python",
   "name": "python",
   "nbconvert_exporter": "python",
   "pygments_lexer": "ipython3",
   "version": "3.8.15"
  }
 },
 "nbformat": 4,
 "nbformat_minor": 5
}
