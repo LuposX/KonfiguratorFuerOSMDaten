{
 "cells": [
  {
   "cell_type": "code",
   "execution_count": 11,
   "id": "09c22c0c-ebc1-4568-9067-b66f831d5a34",
   "metadata": {},
   "outputs": [],
   "source": [
    "import geopandas as gpd\n",
    "import osmium as osm\n",
    "import shapely as shp\n",
    "\n",
    "import pandas as pd"
   ]
  },
  {
   "cell_type": "code",
   "execution_count": 2,
   "id": "f0b0f41f-4822-4265-8952-c6f31bf9bf28",
   "metadata": {},
   "outputs": [],
   "source": [
    "    def node(self, n):    \n",
    "        self.coords = shp.Point((n.location.x, n.location.y))\n",
    "        self.tag_inventory(n, \"node\")\n",
    "        \n",
    "        del n\n",
    "\n",
    "    def way(self, w):\n",
    "        test = []\n",
    "        for i in range(len(w.nodes)):\n",
    "            test.append((w.nodes[i].location.x, w.nodes[i].location.y))\n",
    "        \n",
    "        # this only works if we have more than 4 coordinates if not then throw this data entry away\n",
    "        if (4 <= len(test)):\n",
    "            self.coords = shp.Polygon(test.copy())\n",
    "            self.tag_inventory(w, \"way\")\n",
    "        \n",
    "        # if you dont do this the libary sometimes, throws erros, maybe only jupyter issues needs furtehr testing\n",
    "        del w\n",
    "        del test"
   ]
  },
  {
   "cell_type": "code",
   "execution_count": 3,
   "id": "435e894f-85f2-487f-8d93-8acab14c9b40",
   "metadata": {},
   "outputs": [],
   "source": [
    "class OSMHandler(osm.SimpleHandler):\n",
    "    def __init__(self):\n",
    "        osm.SimpleHandler.__init__(self)\n",
    "        self.osm_data = []\n",
    "        self.coords = 0\n",
    "        self.tag_list = []\n",
    "        \n",
    "    def tag_inventory(self, elem, elem_type):\n",
    "        self.tag_list = []\n",
    "        for tag in elem.tags:\n",
    "            self.tag_list.append((tag.k, tag.v))\n",
    "        \n",
    "        if (elem_type == \"node\"):\n",
    "            self.osm_data.append([elem_type, \n",
    "                                   self.coords,\n",
    "                                   len(self.tag_list),\n",
    "                                   self.tag_list])\n",
    "        elif (elem_type == \"way\"):\n",
    "            self.osm_data.append([elem_type, \n",
    "                                   0,\n",
    "                                   len(self.tag_list),\n",
    "                                   self.tag_list])\n",
    "        else:\n",
    "            self.osm_data.append([elem_type, \n",
    "                                  self.coords,\n",
    "                                  len(self.tag_list),\n",
    "                                  self.tag_list])\n",
    "            \n",
    "    \n",
    "    def node(self, n):    \n",
    "        self.coords = shp.Point((n.location.x, n.location.y))\n",
    "        self.tag_inventory(n, \"node\")\n",
    "        \n",
    "        del n\n",
    "\n",
    "    def way(self, w):\n",
    "        test = []\n",
    "        for i in range(len(w.nodes)):\n",
    "            test.append((w.nodes[i].location.x, w.nodes[i].location.y))\n",
    "        \n",
    "        # this only works if we have more than 4 coordinates if not then throw this data entry away\n",
    "        if (4 <= len(test)):\n",
    "            self.coords = shp.Polygon(test.copy())\n",
    "            self.tag_inventory(w, \"way\")\n",
    "        \n",
    "        # if you dont do this the libary sometimes, throws erros, maybe only jupyter issues needs furtehr testing\n",
    "        del w\n",
    "        del test\n",
    "\n",
    "    # its really hard to get the location out of relations\n",
    "    def relation(self, r):   \n",
    "        self.tag_inventory(r, \"relation\")\n",
    "        \n",
    "        del r"
   ]
  },
  {
   "cell_type": "code",
   "execution_count": 4,
   "id": "7617799a-fce0-4ca9-b37c-cd8557795c1d",
   "metadata": {},
   "outputs": [],
   "source": [
    "osmhandler = OSMHandler()\n",
    "# scan the input file and fills the handler list accordingly\n",
    "osmhandler.apply_file(\"../../data/andorra-latest.osm.pbf\", locations=True)"
   ]
  },
  {
   "cell_type": "code",
   "execution_count": 5,
   "id": "0224678f-ecde-444b-84c7-9c5140b71694",
   "metadata": {},
   "outputs": [],
   "source": [
    "# transform the list into a pandas DataFrame\n",
    "data_colnames = ['osm_type','location', 'ntags', 'tags']\n",
    "df_osm = gpd.GeoDataFrame(osmhandler.osm_data, columns=data_colnames)\n",
    "# df_osm = tag_genome.sort_values(by=['type', 'id', 'ts'])"
   ]
  },
  {
   "cell_type": "code",
   "execution_count": 6,
   "id": "a93f4495-ab4e-472c-815e-2ba94a3720d3",
   "metadata": {},
   "outputs": [],
   "source": [
    "df_osm[\"Category\"] = None"
   ]
  },
  {
   "cell_type": "code",
   "execution_count": 7,
   "id": "1c44f9fc-6d21-41b8-9fba-a99e64cc4ab9",
   "metadata": {},
   "outputs": [
    {
     "data": {
      "text/html": [
       "<div>\n",
       "<style scoped>\n",
       "    .dataframe tbody tr th:only-of-type {\n",
       "        vertical-align: middle;\n",
       "    }\n",
       "\n",
       "    .dataframe tbody tr th {\n",
       "        vertical-align: top;\n",
       "    }\n",
       "\n",
       "    .dataframe thead th {\n",
       "        text-align: right;\n",
       "    }\n",
       "</style>\n",
       "<table border=\"1\" class=\"dataframe\">\n",
       "  <thead>\n",
       "    <tr style=\"text-align: right;\">\n",
       "      <th></th>\n",
       "      <th>osm_type</th>\n",
       "      <th>location</th>\n",
       "      <th>ntags</th>\n",
       "      <th>tags</th>\n",
       "      <th>Category</th>\n",
       "    </tr>\n",
       "  </thead>\n",
       "  <tbody>\n",
       "    <tr>\n",
       "      <th>0</th>\n",
       "      <td>node</td>\n",
       "      <td>POINT (15527243 425142133)</td>\n",
       "      <td>0</td>\n",
       "      <td>[]</td>\n",
       "      <td>None</td>\n",
       "    </tr>\n",
       "    <tr>\n",
       "      <th>1</th>\n",
       "      <td>node</td>\n",
       "      <td>POINT (15526978 425144526)</td>\n",
       "      <td>0</td>\n",
       "      <td>[]</td>\n",
       "      <td>None</td>\n",
       "    </tr>\n",
       "    <tr>\n",
       "      <th>2</th>\n",
       "      <td>node</td>\n",
       "      <td>POINT (15529780 425152372)</td>\n",
       "      <td>0</td>\n",
       "      <td>[]</td>\n",
       "      <td>None</td>\n",
       "    </tr>\n",
       "    <tr>\n",
       "      <th>3</th>\n",
       "      <td>node</td>\n",
       "      <td>POINT (15535850 425165425)</td>\n",
       "      <td>0</td>\n",
       "      <td>[]</td>\n",
       "      <td>None</td>\n",
       "    </tr>\n",
       "    <tr>\n",
       "      <th>4</th>\n",
       "      <td>node</td>\n",
       "      <td>POINT (15538550 425168939)</td>\n",
       "      <td>0</td>\n",
       "      <td>[]</td>\n",
       "      <td>None</td>\n",
       "    </tr>\n",
       "    <tr>\n",
       "      <th>...</th>\n",
       "      <td>...</td>\n",
       "      <td>...</td>\n",
       "      <td>...</td>\n",
       "      <td>...</td>\n",
       "      <td>...</td>\n",
       "    </tr>\n",
       "    <tr>\n",
       "      <th>368936</th>\n",
       "      <td>relation</td>\n",
       "      <td>POLYGON ((14944460 424913480, 14945762 4249139...</td>\n",
       "      <td>2</td>\n",
       "      <td>[(landuse, forest), (type, multipolygon)]</td>\n",
       "      <td>None</td>\n",
       "    </tr>\n",
       "    <tr>\n",
       "      <th>368937</th>\n",
       "      <td>relation</td>\n",
       "      <td>POLYGON ((14944460 424913480, 14945762 4249139...</td>\n",
       "      <td>2</td>\n",
       "      <td>[(landuse, forest), (type, multipolygon)]</td>\n",
       "      <td>None</td>\n",
       "    </tr>\n",
       "    <tr>\n",
       "      <th>368938</th>\n",
       "      <td>relation</td>\n",
       "      <td>POLYGON ((14944460 424913480, 14945762 4249139...</td>\n",
       "      <td>2</td>\n",
       "      <td>[(landuse, forest), (type, multipolygon)]</td>\n",
       "      <td>None</td>\n",
       "    </tr>\n",
       "    <tr>\n",
       "      <th>368939</th>\n",
       "      <td>relation</td>\n",
       "      <td>POLYGON ((14944460 424913480, 14945762 4249139...</td>\n",
       "      <td>2</td>\n",
       "      <td>[(landuse, forest), (type, multipolygon)]</td>\n",
       "      <td>None</td>\n",
       "    </tr>\n",
       "    <tr>\n",
       "      <th>368940</th>\n",
       "      <td>relation</td>\n",
       "      <td>POLYGON ((14944460 424913480, 14945762 4249139...</td>\n",
       "      <td>3</td>\n",
       "      <td>[(natural, water), (type, multipolygon), (wate...</td>\n",
       "      <td>None</td>\n",
       "    </tr>\n",
       "  </tbody>\n",
       "</table>\n",
       "<p>368941 rows × 5 columns</p>\n",
       "</div>"
      ],
      "text/plain": [
       "        osm_type                                           location  ntags  \\\n",
       "0           node                         POINT (15527243 425142133)      0   \n",
       "1           node                         POINT (15526978 425144526)      0   \n",
       "2           node                         POINT (15529780 425152372)      0   \n",
       "3           node                         POINT (15535850 425165425)      0   \n",
       "4           node                         POINT (15538550 425168939)      0   \n",
       "...          ...                                                ...    ...   \n",
       "368936  relation  POLYGON ((14944460 424913480, 14945762 4249139...      2   \n",
       "368937  relation  POLYGON ((14944460 424913480, 14945762 4249139...      2   \n",
       "368938  relation  POLYGON ((14944460 424913480, 14945762 4249139...      2   \n",
       "368939  relation  POLYGON ((14944460 424913480, 14945762 4249139...      2   \n",
       "368940  relation  POLYGON ((14944460 424913480, 14945762 4249139...      3   \n",
       "\n",
       "                                                     tags Category  \n",
       "0                                                      []     None  \n",
       "1                                                      []     None  \n",
       "2                                                      []     None  \n",
       "3                                                      []     None  \n",
       "4                                                      []     None  \n",
       "...                                                   ...      ...  \n",
       "368936          [(landuse, forest), (type, multipolygon)]     None  \n",
       "368937          [(landuse, forest), (type, multipolygon)]     None  \n",
       "368938          [(landuse, forest), (type, multipolygon)]     None  \n",
       "368939          [(landuse, forest), (type, multipolygon)]     None  \n",
       "368940  [(natural, water), (type, multipolygon), (wate...     None  \n",
       "\n",
       "[368941 rows x 5 columns]"
      ]
     },
     "execution_count": 7,
     "metadata": {},
     "output_type": "execute_result"
    }
   ],
   "source": [
    "df_osm"
   ]
  },
  {
   "cell_type": "code",
   "execution_count": 8,
   "id": "2038b47b-6c4a-4eff-b36e-d85f7171eda9",
   "metadata": {},
   "outputs": [
    {
     "name": "stdout",
     "output_type": "stream",
     "text": [
      "<class 'geopandas.geodataframe.GeoDataFrame'>\n",
      "RangeIndex: 368941 entries, 0 to 368940\n",
      "Data columns (total 5 columns):\n",
      " #   Column    Non-Null Count   Dtype \n",
      "---  ------    --------------   ----- \n",
      " 0   osm_type  368941 non-null  object\n",
      " 1   location  368941 non-null  object\n",
      " 2   ntags     368941 non-null  int64 \n",
      " 3   tags      368941 non-null  object\n",
      " 4   Category  0 non-null       object\n",
      "dtypes: int64(1), object(4)\n",
      "memory usage: 14.1+ MB\n"
     ]
    }
   ],
   "source": [
    "df_osm.info()"
   ]
  },
  {
   "cell_type": "markdown",
   "id": "f77ff6a0-339e-4453-8d77-cbb040837e04",
   "metadata": {},
   "source": [
    "## Test Tag filtering\n",
    "\n",
    "Teste how blacklist and whitelist work in a geodataframe"
   ]
  },
  {
   "cell_type": "code",
   "execution_count": 9,
   "id": "4aa0b824-7a77-4a32-bf95-77ef3ae6f7eb",
   "metadata": {},
   "outputs": [],
   "source": [
    "# defien a whitelist\n",
    "whitelist = [(\"Building\", \"True\")]"
   ]
  },
  {
   "cell_type": "code",
   "execution_count": 24,
   "id": "cced1712-f2cb-4899-aa60-c5a110fa95dc",
   "metadata": {},
   "outputs": [
    {
     "data": {
      "text/plain": [
       "[('natural', 'water'), ('type', 'multipolygon'), ('water', 'river')]"
      ]
     },
     "execution_count": 24,
     "metadata": {},
     "output_type": "execute_result"
    }
   ],
   "source": [
    "df_osm[\"tags\"][368940]"
   ]
  },
  {
   "cell_type": "code",
   "execution_count": 20,
   "id": "2be40345-a06d-4212-b851-07191ea5a032",
   "metadata": {},
   "outputs": [
    {
     "data": {
      "text/plain": [
       "[('natural', 'water'), ('type', 'multipolygon'), ('water', 'river')]"
      ]
     },
     "execution_count": 20,
     "metadata": {},
     "output_type": "execute_result"
    }
   ],
   "source": [
    "# get the tag entry, from the last row\n",
    "df_osm[\"tags\"][368940]"
   ]
  },
  {
   "cell_type": "code",
   "execution_count": 21,
   "id": "97aa7f0e-66bb-4a11-a17f-a9953a93468c",
   "metadata": {},
   "outputs": [
    {
     "data": {
      "text/plain": [
       "('natural', 'water')"
      ]
     },
     "execution_count": 21,
     "metadata": {},
     "output_type": "execute_result"
    }
   ],
   "source": [
    "# get a single tag fro mthe tag entry\n",
    "df_osm[\"tags\"][368940][0]"
   ]
  },
  {
   "cell_type": "code",
   "execution_count": 13,
   "id": "731a3314-3bd4-49e5-8988-cc1dd8787d44",
   "metadata": {},
   "outputs": [
    {
     "ename": "KeyError",
     "evalue": "'Building'",
     "output_type": "error",
     "traceback": [
      "\u001b[0;31m---------------------------------------------------------------------------\u001b[0m",
      "\u001b[0;31mKeyError\u001b[0m                                  Traceback (most recent call last)",
      "Cell \u001b[0;32mIn [13], line 1\u001b[0m\n\u001b[0;32m----> 1\u001b[0m \u001b[43mdf_osm\u001b[49m\u001b[43m[\u001b[49m\u001b[38;5;124;43m\"\u001b[39;49m\u001b[38;5;124;43mtags\u001b[39;49m\u001b[38;5;124;43m\"\u001b[39;49m\u001b[43m]\u001b[49m\u001b[38;5;241;43m.\u001b[39;49m\u001b[43mloc\u001b[49m\u001b[43m[\u001b[49m\u001b[38;5;124;43m\"\u001b[39;49m\u001b[38;5;124;43mBuilding\u001b[39;49m\u001b[38;5;124;43m\"\u001b[39;49m\u001b[43m]\u001b[49m\n",
      "File \u001b[0;32m~/.local/lib/python3.10/site-packages/pandas/core/indexing.py:1073\u001b[0m, in \u001b[0;36m_LocationIndexer.__getitem__\u001b[0;34m(self, key)\u001b[0m\n\u001b[1;32m   1070\u001b[0m axis \u001b[38;5;241m=\u001b[39m \u001b[38;5;28mself\u001b[39m\u001b[38;5;241m.\u001b[39maxis \u001b[38;5;129;01mor\u001b[39;00m \u001b[38;5;241m0\u001b[39m\n\u001b[1;32m   1072\u001b[0m maybe_callable \u001b[38;5;241m=\u001b[39m com\u001b[38;5;241m.\u001b[39mapply_if_callable(key, \u001b[38;5;28mself\u001b[39m\u001b[38;5;241m.\u001b[39mobj)\n\u001b[0;32m-> 1073\u001b[0m \u001b[38;5;28;01mreturn\u001b[39;00m \u001b[38;5;28;43mself\u001b[39;49m\u001b[38;5;241;43m.\u001b[39;49m\u001b[43m_getitem_axis\u001b[49m\u001b[43m(\u001b[49m\u001b[43mmaybe_callable\u001b[49m\u001b[43m,\u001b[49m\u001b[43m \u001b[49m\u001b[43maxis\u001b[49m\u001b[38;5;241;43m=\u001b[39;49m\u001b[43maxis\u001b[49m\u001b[43m)\u001b[49m\n",
      "File \u001b[0;32m~/.local/lib/python3.10/site-packages/pandas/core/indexing.py:1312\u001b[0m, in \u001b[0;36m_LocIndexer._getitem_axis\u001b[0;34m(self, key, axis)\u001b[0m\n\u001b[1;32m   1310\u001b[0m \u001b[38;5;66;03m# fall thru to straight lookup\u001b[39;00m\n\u001b[1;32m   1311\u001b[0m \u001b[38;5;28mself\u001b[39m\u001b[38;5;241m.\u001b[39m_validate_key(key, axis)\n\u001b[0;32m-> 1312\u001b[0m \u001b[38;5;28;01mreturn\u001b[39;00m \u001b[38;5;28;43mself\u001b[39;49m\u001b[38;5;241;43m.\u001b[39;49m\u001b[43m_get_label\u001b[49m\u001b[43m(\u001b[49m\u001b[43mkey\u001b[49m\u001b[43m,\u001b[49m\u001b[43m \u001b[49m\u001b[43maxis\u001b[49m\u001b[38;5;241;43m=\u001b[39;49m\u001b[43maxis\u001b[49m\u001b[43m)\u001b[49m\n",
      "File \u001b[0;32m~/.local/lib/python3.10/site-packages/pandas/core/indexing.py:1260\u001b[0m, in \u001b[0;36m_LocIndexer._get_label\u001b[0;34m(self, label, axis)\u001b[0m\n\u001b[1;32m   1258\u001b[0m \u001b[38;5;28;01mdef\u001b[39;00m \u001b[38;5;21m_get_label\u001b[39m(\u001b[38;5;28mself\u001b[39m, label, axis: \u001b[38;5;28mint\u001b[39m):\n\u001b[1;32m   1259\u001b[0m     \u001b[38;5;66;03m# GH#5567 this will fail if the label is not present in the axis.\u001b[39;00m\n\u001b[0;32m-> 1260\u001b[0m     \u001b[38;5;28;01mreturn\u001b[39;00m \u001b[38;5;28;43mself\u001b[39;49m\u001b[38;5;241;43m.\u001b[39;49m\u001b[43mobj\u001b[49m\u001b[38;5;241;43m.\u001b[39;49m\u001b[43mxs\u001b[49m\u001b[43m(\u001b[49m\u001b[43mlabel\u001b[49m\u001b[43m,\u001b[49m\u001b[43m \u001b[49m\u001b[43maxis\u001b[49m\u001b[38;5;241;43m=\u001b[39;49m\u001b[43maxis\u001b[49m\u001b[43m)\u001b[49m\n",
      "File \u001b[0;32m~/.local/lib/python3.10/site-packages/pandas/core/generic.py:4056\u001b[0m, in \u001b[0;36mNDFrame.xs\u001b[0;34m(self, key, axis, level, drop_level)\u001b[0m\n\u001b[1;32m   4054\u001b[0m             new_index \u001b[38;5;241m=\u001b[39m index[loc]\n\u001b[1;32m   4055\u001b[0m \u001b[38;5;28;01melse\u001b[39;00m:\n\u001b[0;32m-> 4056\u001b[0m     loc \u001b[38;5;241m=\u001b[39m \u001b[43mindex\u001b[49m\u001b[38;5;241;43m.\u001b[39;49m\u001b[43mget_loc\u001b[49m\u001b[43m(\u001b[49m\u001b[43mkey\u001b[49m\u001b[43m)\u001b[49m\n\u001b[1;32m   4058\u001b[0m     \u001b[38;5;28;01mif\u001b[39;00m \u001b[38;5;28misinstance\u001b[39m(loc, np\u001b[38;5;241m.\u001b[39mndarray):\n\u001b[1;32m   4059\u001b[0m         \u001b[38;5;28;01mif\u001b[39;00m loc\u001b[38;5;241m.\u001b[39mdtype \u001b[38;5;241m==\u001b[39m np\u001b[38;5;241m.\u001b[39mbool_:\n",
      "File \u001b[0;32m~/.local/lib/python3.10/site-packages/pandas/core/indexes/range.py:395\u001b[0m, in \u001b[0;36mRangeIndex.get_loc\u001b[0;34m(self, key, method, tolerance)\u001b[0m\n\u001b[1;32m    393\u001b[0m             \u001b[38;5;28;01mraise\u001b[39;00m \u001b[38;5;167;01mKeyError\u001b[39;00m(key) \u001b[38;5;28;01mfrom\u001b[39;00m \u001b[38;5;21;01merr\u001b[39;00m\n\u001b[1;32m    394\u001b[0m     \u001b[38;5;28mself\u001b[39m\u001b[38;5;241m.\u001b[39m_check_indexing_error(key)\n\u001b[0;32m--> 395\u001b[0m     \u001b[38;5;28;01mraise\u001b[39;00m \u001b[38;5;167;01mKeyError\u001b[39;00m(key)\n\u001b[1;32m    396\u001b[0m \u001b[38;5;28;01mreturn\u001b[39;00m \u001b[38;5;28msuper\u001b[39m()\u001b[38;5;241m.\u001b[39mget_loc(key, method\u001b[38;5;241m=\u001b[39mmethod, tolerance\u001b[38;5;241m=\u001b[39mtolerance)\n",
      "\u001b[0;31mKeyError\u001b[0m: 'Building'"
     ]
    }
   ],
   "source": [
    "df_osm[\"tags\"].loc[\"Building\"]"
   ]
  },
  {
   "cell_type": "code",
   "execution_count": 13,
   "id": "a4ab007b-845b-48e7-8a65-b1c90c6cd766",
   "metadata": {},
   "outputs": [
    {
     "ename": "KeyError",
     "evalue": "'Building'",
     "output_type": "error",
     "traceback": [
      "\u001b[0;31m---------------------------------------------------------------------------\u001b[0m",
      "\u001b[0;31mKeyError\u001b[0m                                  Traceback (most recent call last)",
      "Cell \u001b[0;32mIn [13], line 1\u001b[0m\n\u001b[0;32m----> 1\u001b[0m \u001b[43mdf_osm\u001b[49m\u001b[43m[\u001b[49m\u001b[38;5;124;43m\"\u001b[39;49m\u001b[38;5;124;43mtags\u001b[39;49m\u001b[38;5;124;43m\"\u001b[39;49m\u001b[43m]\u001b[49m\u001b[38;5;241;43m.\u001b[39;49m\u001b[43mloc\u001b[49m\u001b[43m[\u001b[49m\u001b[38;5;124;43m\"\u001b[39;49m\u001b[38;5;124;43mBuilding\u001b[39;49m\u001b[38;5;124;43m\"\u001b[39;49m\u001b[43m]\u001b[49m\n",
      "File \u001b[0;32m~/.local/lib/python3.10/site-packages/pandas/core/indexing.py:1073\u001b[0m, in \u001b[0;36m_LocationIndexer.__getitem__\u001b[0;34m(self, key)\u001b[0m\n\u001b[1;32m   1070\u001b[0m axis \u001b[38;5;241m=\u001b[39m \u001b[38;5;28mself\u001b[39m\u001b[38;5;241m.\u001b[39maxis \u001b[38;5;129;01mor\u001b[39;00m \u001b[38;5;241m0\u001b[39m\n\u001b[1;32m   1072\u001b[0m maybe_callable \u001b[38;5;241m=\u001b[39m com\u001b[38;5;241m.\u001b[39mapply_if_callable(key, \u001b[38;5;28mself\u001b[39m\u001b[38;5;241m.\u001b[39mobj)\n\u001b[0;32m-> 1073\u001b[0m \u001b[38;5;28;01mreturn\u001b[39;00m \u001b[38;5;28;43mself\u001b[39;49m\u001b[38;5;241;43m.\u001b[39;49m\u001b[43m_getitem_axis\u001b[49m\u001b[43m(\u001b[49m\u001b[43mmaybe_callable\u001b[49m\u001b[43m,\u001b[49m\u001b[43m \u001b[49m\u001b[43maxis\u001b[49m\u001b[38;5;241;43m=\u001b[39;49m\u001b[43maxis\u001b[49m\u001b[43m)\u001b[49m\n",
      "File \u001b[0;32m~/.local/lib/python3.10/site-packages/pandas/core/indexing.py:1312\u001b[0m, in \u001b[0;36m_LocIndexer._getitem_axis\u001b[0;34m(self, key, axis)\u001b[0m\n\u001b[1;32m   1310\u001b[0m \u001b[38;5;66;03m# fall thru to straight lookup\u001b[39;00m\n\u001b[1;32m   1311\u001b[0m \u001b[38;5;28mself\u001b[39m\u001b[38;5;241m.\u001b[39m_validate_key(key, axis)\n\u001b[0;32m-> 1312\u001b[0m \u001b[38;5;28;01mreturn\u001b[39;00m \u001b[38;5;28;43mself\u001b[39;49m\u001b[38;5;241;43m.\u001b[39;49m\u001b[43m_get_label\u001b[49m\u001b[43m(\u001b[49m\u001b[43mkey\u001b[49m\u001b[43m,\u001b[49m\u001b[43m \u001b[49m\u001b[43maxis\u001b[49m\u001b[38;5;241;43m=\u001b[39;49m\u001b[43maxis\u001b[49m\u001b[43m)\u001b[49m\n",
      "File \u001b[0;32m~/.local/lib/python3.10/site-packages/pandas/core/indexing.py:1260\u001b[0m, in \u001b[0;36m_LocIndexer._get_label\u001b[0;34m(self, label, axis)\u001b[0m\n\u001b[1;32m   1258\u001b[0m \u001b[38;5;28;01mdef\u001b[39;00m \u001b[38;5;21m_get_label\u001b[39m(\u001b[38;5;28mself\u001b[39m, label, axis: \u001b[38;5;28mint\u001b[39m):\n\u001b[1;32m   1259\u001b[0m     \u001b[38;5;66;03m# GH#5567 this will fail if the label is not present in the axis.\u001b[39;00m\n\u001b[0;32m-> 1260\u001b[0m     \u001b[38;5;28;01mreturn\u001b[39;00m \u001b[38;5;28;43mself\u001b[39;49m\u001b[38;5;241;43m.\u001b[39;49m\u001b[43mobj\u001b[49m\u001b[38;5;241;43m.\u001b[39;49m\u001b[43mxs\u001b[49m\u001b[43m(\u001b[49m\u001b[43mlabel\u001b[49m\u001b[43m,\u001b[49m\u001b[43m \u001b[49m\u001b[43maxis\u001b[49m\u001b[38;5;241;43m=\u001b[39;49m\u001b[43maxis\u001b[49m\u001b[43m)\u001b[49m\n",
      "File \u001b[0;32m~/.local/lib/python3.10/site-packages/pandas/core/generic.py:4056\u001b[0m, in \u001b[0;36mNDFrame.xs\u001b[0;34m(self, key, axis, level, drop_level)\u001b[0m\n\u001b[1;32m   4054\u001b[0m             new_index \u001b[38;5;241m=\u001b[39m index[loc]\n\u001b[1;32m   4055\u001b[0m \u001b[38;5;28;01melse\u001b[39;00m:\n\u001b[0;32m-> 4056\u001b[0m     loc \u001b[38;5;241m=\u001b[39m \u001b[43mindex\u001b[49m\u001b[38;5;241;43m.\u001b[39;49m\u001b[43mget_loc\u001b[49m\u001b[43m(\u001b[49m\u001b[43mkey\u001b[49m\u001b[43m)\u001b[49m\n\u001b[1;32m   4058\u001b[0m     \u001b[38;5;28;01mif\u001b[39;00m \u001b[38;5;28misinstance\u001b[39m(loc, np\u001b[38;5;241m.\u001b[39mndarray):\n\u001b[1;32m   4059\u001b[0m         \u001b[38;5;28;01mif\u001b[39;00m loc\u001b[38;5;241m.\u001b[39mdtype \u001b[38;5;241m==\u001b[39m np\u001b[38;5;241m.\u001b[39mbool_:\n",
      "File \u001b[0;32m~/.local/lib/python3.10/site-packages/pandas/core/indexes/range.py:395\u001b[0m, in \u001b[0;36mRangeIndex.get_loc\u001b[0;34m(self, key, method, tolerance)\u001b[0m\n\u001b[1;32m    393\u001b[0m             \u001b[38;5;28;01mraise\u001b[39;00m \u001b[38;5;167;01mKeyError\u001b[39;00m(key) \u001b[38;5;28;01mfrom\u001b[39;00m \u001b[38;5;21;01merr\u001b[39;00m\n\u001b[1;32m    394\u001b[0m     \u001b[38;5;28mself\u001b[39m\u001b[38;5;241m.\u001b[39m_check_indexing_error(key)\n\u001b[0;32m--> 395\u001b[0m     \u001b[38;5;28;01mraise\u001b[39;00m \u001b[38;5;167;01mKeyError\u001b[39;00m(key)\n\u001b[1;32m    396\u001b[0m \u001b[38;5;28;01mreturn\u001b[39;00m \u001b[38;5;28msuper\u001b[39m()\u001b[38;5;241m.\u001b[39mget_loc(key, method\u001b[38;5;241m=\u001b[39mmethod, tolerance\u001b[38;5;241m=\u001b[39mtolerance)\n",
      "\u001b[0;31mKeyError\u001b[0m: 'Building'"
     ]
    }
   ],
   "source": [
    "df_osm[\"tags\"].loc[\"Building\"]"
   ]
  },
  {
   "cell_type": "code",
   "execution_count": 22,
   "id": "6f7e68eb-cbbc-4375-9d6f-620d0582fa6a",
   "metadata": {},
   "outputs": [
    {
     "name": "stdout",
     "output_type": "stream",
     "text": [
      "The autotime extension is already loaded. To reload it, use:\n",
      "  %reload_ext autotime\n",
      "time: 2.34 ms (started: 2023-01-20 23:04:59 +01:00)\n"
     ]
    }
   ],
   "source": [
    "try:\n",
    "    %load_ext autotime\n",
    "except:\n",
    "    !pip install ipython-autotime\n",
    "    %load_ext autotime"
   ]
  },
  {
   "cell_type": "code",
   "execution_count": 27,
   "id": "cfd92c47-725e-4541-be54-873ce5bf2e5e",
   "metadata": {},
   "outputs": [
    {
     "name": "stdout",
     "output_type": "stream",
     "text": [
      "time: 1.56 ms (started: 2023-01-20 23:07:35 +01:00)\n"
     ]
    }
   ],
   "source": [
    "df1=pd.DataFrame({'building1':['true', 'none', 'false', 'true', 'false', 'none'], 'building2':['true', 'none', 'false', 'true', 'false', 'none']})"
   ]
  },
  {
   "cell_type": "code",
   "execution_count": 28,
   "id": "eba40642-5007-4372-b647-29454416335f",
   "metadata": {},
   "outputs": [
    {
     "data": {
      "text/html": [
       "<div>\n",
       "<style scoped>\n",
       "    .dataframe tbody tr th:only-of-type {\n",
       "        vertical-align: middle;\n",
       "    }\n",
       "\n",
       "    .dataframe tbody tr th {\n",
       "        vertical-align: top;\n",
       "    }\n",
       "\n",
       "    .dataframe thead th {\n",
       "        text-align: right;\n",
       "    }\n",
       "</style>\n",
       "<table border=\"1\" class=\"dataframe\">\n",
       "  <thead>\n",
       "    <tr style=\"text-align: right;\">\n",
       "      <th></th>\n",
       "      <th>building1</th>\n",
       "      <th>building2</th>\n",
       "    </tr>\n",
       "  </thead>\n",
       "  <tbody>\n",
       "    <tr>\n",
       "      <th>0</th>\n",
       "      <td>true</td>\n",
       "      <td>true</td>\n",
       "    </tr>\n",
       "    <tr>\n",
       "      <th>1</th>\n",
       "      <td>none</td>\n",
       "      <td>none</td>\n",
       "    </tr>\n",
       "    <tr>\n",
       "      <th>2</th>\n",
       "      <td>false</td>\n",
       "      <td>false</td>\n",
       "    </tr>\n",
       "    <tr>\n",
       "      <th>3</th>\n",
       "      <td>true</td>\n",
       "      <td>true</td>\n",
       "    </tr>\n",
       "    <tr>\n",
       "      <th>4</th>\n",
       "      <td>false</td>\n",
       "      <td>false</td>\n",
       "    </tr>\n",
       "    <tr>\n",
       "      <th>5</th>\n",
       "      <td>none</td>\n",
       "      <td>none</td>\n",
       "    </tr>\n",
       "  </tbody>\n",
       "</table>\n",
       "</div>"
      ],
      "text/plain": [
       "  building1 building2\n",
       "0      true      true\n",
       "1      none      none\n",
       "2     false     false\n",
       "3      true      true\n",
       "4     false     false\n",
       "5      none      none"
      ]
     },
     "execution_count": 28,
     "metadata": {},
     "output_type": "execute_result"
    },
    {
     "name": "stdout",
     "output_type": "stream",
     "text": [
      "time: 13.8 ms (started: 2023-01-20 23:07:37 +01:00)\n"
     ]
    }
   ],
   "source": [
    "df1"
   ]
  },
  {
   "cell_type": "code",
   "execution_count": 30,
   "id": "5742000b-fcf0-4ee3-9bfc-891c7e436182",
   "metadata": {},
   "outputs": [
    {
     "data": {
      "text/plain": [
       "0    False\n",
       "1    False\n",
       "2    False\n",
       "3    False\n",
       "4    False\n",
       "5    False\n",
       "Name: building1, dtype: bool"
      ]
     },
     "execution_count": 30,
     "metadata": {},
     "output_type": "execute_result"
    },
    {
     "name": "stdout",
     "output_type": "stream",
     "text": [
      "time: 7.48 ms (started: 2023-01-20 23:08:22 +01:00)\n"
     ]
    }
   ],
   "source": [
    "df1[\"building1\"].isin([1])"
   ]
  },
  {
   "cell_type": "code",
   "execution_count": 33,
   "id": "7ef82caf-73ae-4063-8d68-9a46629709c3",
   "metadata": {},
   "outputs": [
    {
     "ename": "SyntaxError",
     "evalue": "invalid syntax (1105695677.py, line 1)",
     "output_type": "error",
     "traceback": [
      "\u001b[0;36m  Cell \u001b[0;32mIn [33], line 1\u001b[0;36m\u001b[0m\n\u001b[0;31m    df1=pd.DataFrame({'tags':[('building1': 'true', 'buidling2': 'true'),\u001b[0m\n\u001b[0m                                          ^\u001b[0m\n\u001b[0;31mSyntaxError\u001b[0m\u001b[0;31m:\u001b[0m invalid syntax\n"
     ]
    },
    {
     "name": "stdout",
     "output_type": "stream",
     "text": [
      "time: 2.05 ms (started: 2023-01-20 23:16:52 +01:00)\n"
     ]
    }
   ],
   "source": [
    "\n",
    "df1=pd.DataFrame({'tags':[('building1': 'true', 'buidling2': 'true'), \n",
    "                          ('building1': 'none', 'buidling2': 'none'), \n",
    "                          ('building1': 'false', 'buidling2': 'false'), \n",
    "                          ('building1': 'true', 'buidling2': 'true'), \n",
    "                          ('building1': 'false', 'buidling2': 'false'), \n",
    "                          ('building1': 'none', 'buidling2': 'none')]})"
   ]
  },
  {
   "cell_type": "code",
   "execution_count": null,
   "id": "c294a5a1-6cde-44cc-bde4-7c5548871816",
   "metadata": {},
   "outputs": [],
   "source": []
  }
 ],
 "metadata": {
  "kernelspec": {
   "display_name": "Python 3 (ipykernel)",
   "language": "python",
   "name": "python3"
  },
  "language_info": {
   "codemirror_mode": {
    "name": "ipython",
    "version": 3
   },
   "file_extension": ".py",
   "mimetype": "text/x-python",
   "name": "python",
   "nbconvert_exporter": "python",
   "pygments_lexer": "ipython3",
   "version": "3.10.8"
  }
 },
 "nbformat": 4,
 "nbformat_minor": 5
}
