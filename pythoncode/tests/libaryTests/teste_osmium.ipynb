{
 "cells": [
  {
   "cell_type": "code",
   "execution_count": 1,
   "id": "09c22c0c-ebc1-4568-9067-b66f831d5a34",
   "metadata": {},
   "outputs": [
    {
     "ename": "ModuleNotFoundError",
     "evalue": "No module named 'osmium'",
     "output_type": "error",
     "traceback": [
      "\u001b[0;31m---------------------------------------------------------------------------\u001b[0m",
      "\u001b[0;31mModuleNotFoundError\u001b[0m                       Traceback (most recent call last)",
      "Cell \u001b[0;32mIn[1], line 2\u001b[0m\n\u001b[1;32m      1\u001b[0m \u001b[38;5;28;01mimport\u001b[39;00m \u001b[38;5;21;01mgeopandas\u001b[39;00m \u001b[38;5;28;01mas\u001b[39;00m \u001b[38;5;21;01mgpd\u001b[39;00m\n\u001b[0;32m----> 2\u001b[0m \u001b[38;5;28;01mimport\u001b[39;00m \u001b[38;5;21;01mosmium\u001b[39;00m \u001b[38;5;28;01mas\u001b[39;00m \u001b[38;5;21;01mosm\u001b[39;00m\n\u001b[1;32m      3\u001b[0m \u001b[38;5;28;01mimport\u001b[39;00m \u001b[38;5;21;01mshapely\u001b[39;00m \u001b[38;5;28;01mas\u001b[39;00m \u001b[38;5;21;01mshp\u001b[39;00m\n",
      "\u001b[0;31mModuleNotFoundError\u001b[0m: No module named 'osmium'"
     ]
    }
   ],
   "source": [
    "import geopandas as gpd\n",
    "import osmium as osm\n",
    "import shapely as shp"
   ]
  },
  {
   "cell_type": "code",
   "execution_count": null,
   "id": "f0b0f41f-4822-4265-8952-c6f31bf9bf28",
   "metadata": {},
   "outputs": [],
   "source": [
    "    def node(self, n):    \n",
    "        self.coords = shp.Point((n.location.x, n.location.y))\n",
    "        self.tag_inventory(n, \"node\")\n",
    "        \n",
    "        del n\n",
    "\n",
    "    def way(self, w):\n",
    "        test = []\n",
    "        for i in range(len(w.nodes)):\n",
    "            test.append((w.nodes[i].location.x, w.nodes[i].location.y))\n",
    "        \n",
    "        # this only works if we have more than 4 coordinates if not then throw this data entry away\n",
    "        if (4 <= len(test)):\n",
    "            self.coords = shp.Polygon(test.copy())\n",
    "            self.tag_inventory(w, \"way\")\n",
    "        \n",
    "        # if you dont do this the libary sometimes, throws erros, maybe only jupyter issues needs furtehr testing\n",
    "        del w\n",
    "        del test"
   ]
  },
  {
   "cell_type": "code",
   "execution_count": null,
   "id": "435e894f-85f2-487f-8d93-8acab14c9b40",
   "metadata": {},
   "outputs": [],
   "source": [
    "class OSMHandler(osm.SimpleHandler):\n",
    "    def __init__(self):\n",
    "        osm.SimpleHandler.__init__(self)\n",
    "        self.osm_data = []\n",
    "        self.coords = 0\n",
    "        self.tag_list = []\n",
    "        \n",
    "    def tag_inventory(self, elem, elem_type):\n",
    "        self.tag_list = []\n",
    "        for tag in elem.tags:\n",
    "            self.tag_list.append((tag.k, tag.v))\n",
    "        \n",
    "        if (elem_type == \"way\"):\n",
    "            self.osm_data.append([elem_type, \n",
    "                                   self.coords,\n",
    "                                   len(self.tag_list),\n",
    "                                   self.tag_list])\n",
    "        elif (elem_type == \"way\"):\n",
    "            self.osm_data.append([elem_type, \n",
    "                                   0,\n",
    "                                   len(self.tag_list),\n",
    "                                   self.tag_list])\n",
    "        else:\n",
    "            self.osm_data.append([elem_type, \n",
    "                                  self.coords,\n",
    "                                  len(self.tag_list),\n",
    "                                  self.tag_list])\n",
    "            \n",
    "    \n",
    "    def node(self, n):    \n",
    "        self.coords = shp.Point((n.location.x, n.location.y))\n",
    "        self.tag_inventory(n, \"node\")\n",
    "        \n",
    "        del n\n",
    "\n",
    "    def way(self, w):\n",
    "        test = []\n",
    "        for i in range(len(w.nodes)):\n",
    "            test.append((w.nodes[i].location.x, w.nodes[i].location.y))\n",
    "        \n",
    "        # this only works if we have more than 4 coordinates if not then throw this data entry away\n",
    "        if (4 <= len(test)):\n",
    "            self.coords = shp.Polygon(test.copy())\n",
    "            self.tag_inventory(w, \"way\")\n",
    "        \n",
    "        # if you dont do this the libary sometimes, throws erros, maybe only jupyter issues needs furtehr testing\n",
    "        del w\n",
    "        del test\n",
    "\n",
    "    # its really hard to get the location out of relations\n",
    "    def relation(self, r):   \n",
    "        self.tag_inventory(r, \"relation\")\n",
    "        \n",
    "        del r"
   ]
  },
  {
   "cell_type": "code",
   "execution_count": null,
   "id": "7617799a-fce0-4ca9-b37c-cd8557795c1d",
   "metadata": {},
   "outputs": [],
   "source": [
    "osmhandler = OSMHandler()\n",
    "# scan the input file and fills the handler list accordingly\n",
    "osmhandler.apply_file(\"../../data/andorra-latest.osm.pbf\", locations=True)"
   ]
  },
  {
   "cell_type": "code",
   "execution_count": null,
   "id": "0224678f-ecde-444b-84c7-9c5140b71694",
   "metadata": {},
   "outputs": [],
   "source": [
    "# transform the list into a pandas DataFrame\n",
    "data_colnames = ['osm_type','location', 'ntags', 'tags']\n",
    "df_osm = gpd.GeoDataFrame(osmhandler.osm_data, columns=data_colnames)\n",
    "# df_osm = tag_genome.sort_values(by=['type', 'id', 'ts'])"
   ]
  },
  {
   "cell_type": "code",
   "execution_count": null,
   "id": "52c7c2a0-4088-4a49-a7a1-723d15f9ec62",
   "metadata": {},
   "outputs": [],
   "source": [
    "df_osm.head(20)"
   ]
  },
  {
   "cell_type": "code",
   "execution_count": null,
   "id": "a93f4495-ab4e-472c-815e-2ba94a3720d3",
   "metadata": {},
   "outputs": [],
   "source": []
  }
 ],
 "metadata": {
  "kernelspec": {
   "display_name": "Python 3 (ipykernel)",
   "language": "python",
   "name": "python3"
  },
  "language_info": {
   "codemirror_mode": {
    "name": "ipython",
    "version": 3
   },
   "file_extension": ".py",
   "mimetype": "text/x-python",
   "name": "python",
   "nbconvert_exporter": "python",
   "pygments_lexer": "ipython3",
   "version": "3.9.15"
  }
 },
 "nbformat": 4,
 "nbformat_minor": 5
}
