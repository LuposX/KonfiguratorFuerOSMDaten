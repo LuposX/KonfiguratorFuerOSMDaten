{
 "cells": [
  {
   "cell_type": "markdown",
   "id": "4cdd1ac5-7156-4176-8606-f879427e13dc",
   "metadata": {},
   "source": [
    "## Test Memory Usage\n",
    "This notebook, test the memory test feature. this is rquired so that our porgramm doesn't crash when the RAM gets full and so that we can decide how much more we can load into the memory."
   ]
  },
  {
   "cell_type": "code",
   "execution_count": null,
   "id": "266888d4-450d-4756-aa14-2d60c6209bb6",
   "metadata": {},
   "outputs": [],
   "source": [
    "import psutil\n",
    "import os"
   ]
  },
  {
   "cell_type": "code",
   "execution_count": null,
   "id": "b1a95f60-efcf-4d99-8355-cfb813af2c2e",
   "metadata": {},
   "outputs": [],
   "source": [
    "# get how much memory there is and how much is allocated\n",
    "psutil.virtual_memory()"
   ]
  },
  {
   "cell_type": "code",
   "execution_count": null,
   "id": "8310e570-d3eb-49f7-a4fe-646e283047aa",
   "metadata": {},
   "outputs": [],
   "source": [
    "# get it as percentage\n",
    "psutil.virtual_memory().percent"
   ]
  },
  {
   "cell_type": "code",
   "execution_count": null,
   "id": "ac7ed603-bdf8-46dd-83bb-a0dc969de732",
   "metadata": {},
   "outputs": [],
   "source": [
    "# get how much memory the curren programm needs\n",
    "process = psutil.Process(os.getpid()) # gets the current python process\n",
    "(process.memory_info().rss / 1024 ** 2)# gets the memory used of the process in Mib"
   ]
  },
  {
   "cell_type": "code",
   "execution_count": null,
   "id": "e19b8c3c-8188-4637-91ea-8aca86a68784",
   "metadata": {},
   "outputs": [],
   "source": []
  }
 ],
 "metadata": {
  "kernelspec": {
   "display_name": "Python 3 (ipykernel)",
   "language": "python",
   "name": "python3"
  },
  "language_info": {
   "codemirror_mode": {
    "name": "ipython",
    "version": 3
   },
   "file_extension": ".py",
   "mimetype": "text/x-python",
   "name": "python",
   "nbconvert_exporter": "python",
   "pygments_lexer": "ipython3",
   "version": "3.9.15"
  }
 },
 "nbformat": 4,
 "nbformat_minor": 5
}
