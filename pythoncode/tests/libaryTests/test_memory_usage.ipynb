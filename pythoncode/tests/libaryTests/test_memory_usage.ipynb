{
 "cells": [
  {
   "cell_type": "markdown",
   "id": "4cdd1ac5-7156-4176-8606-f879427e13dc",
   "metadata": {},
   "source": [
    "## Test Memory Usage\n",
    "This notebook, test the memory test feature. this is rquired so that our porgramm doesn't crash when the RAM gets full and so that we can decide how much more we can load into the memory."
   ]
  },
  {
   "cell_type": "code",
   "execution_count": 2,
   "id": "266888d4-450d-4756-aa14-2d60c6209bb6",
   "metadata": {},
   "outputs": [],
   "source": [
    "import psutil\n",
    "import os"
   ]
  },
  {
   "cell_type": "code",
   "execution_count": 5,
   "id": "b1a95f60-efcf-4d99-8355-cfb813af2c2e",
   "metadata": {},
   "outputs": [
    {
     "data": {
      "text/plain": [
       "svmem(total=16731967488, available=12060327936, percent=27.9, used=4248924160, free=8841211904, active=1479823360, inactive=5736210432, buffers=316424192, cached=3325407232, shared=110059520, slab=338538496)"
      ]
     },
     "execution_count": 5,
     "metadata": {},
     "output_type": "execute_result"
    }
   ],
   "source": [
    "# get how much memory there is and how much is allocated\n",
    "psutil.virtual_memory()"
   ]
  },
  {
   "cell_type": "code",
   "execution_count": 7,
   "id": "8310e570-d3eb-49f7-a4fe-646e283047aa",
   "metadata": {},
   "outputs": [
    {
     "data": {
      "text/plain": [
       "28.0"
      ]
     },
     "execution_count": 7,
     "metadata": {},
     "output_type": "execute_result"
    }
   ],
   "source": [
    "# get it as percentage\n",
    "psutil.virtual_memory().percent"
   ]
  },
  {
   "cell_type": "code",
   "execution_count": 8,
   "id": "ac7ed603-bdf8-46dd-83bb-a0dc969de732",
   "metadata": {},
   "outputs": [],
   "source": [
    "# get how much memory the curren programm needs\n",
    "process = psutil.Process(os.getpid()) # gets "
   ]
  },
  {
   "cell_type": "code",
   "execution_count": null,
   "id": "e19b8c3c-8188-4637-91ea-8aca86a68784",
   "metadata": {},
   "outputs": [],
   "source": []
  }
 ],
 "metadata": {
  "kernelspec": {
   "display_name": "Python 3 (ipykernel)",
   "language": "python",
   "name": "python3"
  },
  "language_info": {
   "codemirror_mode": {
    "name": "ipython",
    "version": 3
   },
   "file_extension": ".py",
   "mimetype": "text/x-python",
   "name": "python",
   "nbconvert_exporter": "python",
   "pygments_lexer": "ipython3",
   "version": "3.8.15"
  }
 },
 "nbformat": 4,
 "nbformat_minor": 5
}
