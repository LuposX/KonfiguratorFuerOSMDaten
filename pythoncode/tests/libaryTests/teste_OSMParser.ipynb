{
 "cells": [
  {
   "cell_type": "markdown",
   "id": "4197fbdb-ed9b-46a2-baba-4c21ef556618",
   "metadata": {},
   "source": [
    "# Download Data\n",
    "Example of how to downlaod data with pyrosmfrom pyrosm import get_data.\n",
    "\n",
    "For more on how to customize the query better, look at: https://pyrosm.readthedocs.io/en/latest/custom_filter.html."
   ]
  },
  {
   "cell_type": "code",
   "execution_count": 1,
   "id": "3bca9ac4-69b6-4cbf-bbe3-e653472778b6",
   "metadata": {},
   "outputs": [],
   "source": [
    "import pyrosm as pyo\n",
    "import shapely.geometry\n",
    "import geopandas as gpd"
   ]
  },
  {
   "cell_type": "code",
   "execution_count": 2,
   "id": "591d3f56-6bf0-4533-86d9-ef1cc557fd79",
   "metadata": {},
   "outputs": [],
   "source": [
    "# shows all available regions for download\n",
    "# remove semicolon if you wanna see all the regions\n",
    "pyo.data.sources.available;"
   ]
  },
  {
   "cell_type": "code",
   "execution_count": 4,
   "id": "de0fc06b-7693-48d6-9ef8-0b9b167a2e3b",
   "metadata": {},
   "outputs": [],
   "source": [
    "#pyo.get_data(\"Karlsruhe\", directory=\"build\")"
   ]
  },
  {
   "cell_type": "markdown",
   "id": "b4ac2469-cb77-4ecc-8693-52984f5a3061",
   "metadata": {},
   "source": [
    "## Reading the dataframes"
   ]
  },
  {
   "cell_type": "code",
   "execution_count": 5,
   "id": "81084f29-2af5-4355-9836-aa5e892dceaa",
   "metadata": {},
   "outputs": [
    {
     "name": "stdout",
     "output_type": "stream",
     "text": [
      "Type of 'osm' instance:  <class 'pyrosm.pyrosm.OSM'>\n"
     ]
    }
   ],
   "source": [
    "# initalize parser\n",
    "osm = pyo.OSM(\"../../data/antarctica-latest.osm.pbf\")\n",
    "# osm = pyo.OSM(\"build/Karlsruhe.osm.pbf\")\n",
    "\n",
    "# See the type\n",
    "print(\"Type of 'osm' instance: \", type(osm))"
   ]
  },
  {
   "cell_type": "code",
   "execution_count": 6,
   "id": "190f30f1-0934-4cf6-80d7-ab8a90008abe",
   "metadata": {},
   "outputs": [
    {
     "name": "stderr",
     "output_type": "stream",
     "text": [
      "/home/lupos/miniconda3/envs/PSE/lib/python3.8/site-packages/geopandas/array.py:1406: UserWarning: CRS not set for some of the concatenation inputs. Setting output's CRS as WGS 84 (the single non-null crs provided).\n",
      "  warnings.warn(\n"
     ]
    }
   ],
   "source": [
    "custom_filter = {'amenity': True, \"shop\": True}\n",
    "\n",
    "buildings = osm.get_buildings(custom_filter)"
   ]
  },
  {
   "cell_type": "code",
   "execution_count": 6,
   "id": "babe45cf-6fcd-463b-8a49-c267c5ccd361",
   "metadata": {},
   "outputs": [
    {
     "data": {
      "text/plain": [
       "1138"
      ]
     },
     "execution_count": 6,
     "metadata": {},
     "output_type": "execute_result"
    }
   ],
   "source": [
    "len(buildings)"
   ]
  },
  {
   "cell_type": "code",
   "execution_count": 7,
   "id": "f530957a-4578-41bd-a851-a4c331a703cb",
   "metadata": {},
   "outputs": [
    {
     "data": {
      "text/html": [
       "<div>\n",
       "<style scoped>\n",
       "    .dataframe tbody tr th:only-of-type {\n",
       "        vertical-align: middle;\n",
       "    }\n",
       "\n",
       "    .dataframe tbody tr th {\n",
       "        vertical-align: top;\n",
       "    }\n",
       "\n",
       "    .dataframe thead th {\n",
       "        text-align: right;\n",
       "    }\n",
       "</style>\n",
       "<table border=\"1\" class=\"dataframe\">\n",
       "  <thead>\n",
       "    <tr style=\"text-align: right;\">\n",
       "      <th></th>\n",
       "      <th>addr:city</th>\n",
       "      <th>addr:housenumber</th>\n",
       "      <th>addr:postcode</th>\n",
       "      <th>name</th>\n",
       "      <th>opening_hours</th>\n",
       "      <th>operator</th>\n",
       "      <th>ref</th>\n",
       "      <th>website</th>\n",
       "      <th>building</th>\n",
       "      <th>amenity</th>\n",
       "      <th>...</th>\n",
       "      <th>source</th>\n",
       "      <th>start_date</th>\n",
       "      <th>wikipedia</th>\n",
       "      <th>id</th>\n",
       "      <th>timestamp</th>\n",
       "      <th>version</th>\n",
       "      <th>tags</th>\n",
       "      <th>osm_type</th>\n",
       "      <th>geometry</th>\n",
       "      <th>changeset</th>\n",
       "    </tr>\n",
       "  </thead>\n",
       "  <tbody>\n",
       "    <tr>\n",
       "      <th>0</th>\n",
       "      <td>None</td>\n",
       "      <td>None</td>\n",
       "      <td>None</td>\n",
       "      <td>None</td>\n",
       "      <td>None</td>\n",
       "      <td>None</td>\n",
       "      <td>None</td>\n",
       "      <td>None</td>\n",
       "      <td>yes</td>\n",
       "      <td>None</td>\n",
       "      <td>...</td>\n",
       "      <td>None</td>\n",
       "      <td>None</td>\n",
       "      <td>None</td>\n",
       "      <td>38045288</td>\n",
       "      <td>1248455386</td>\n",
       "      <td>1</td>\n",
       "      <td>None</td>\n",
       "      <td>way</td>\n",
       "      <td>POLYGON ((-58.98151 -62.19375, -58.98088 -62.1...</td>\n",
       "      <td>NaN</td>\n",
       "    </tr>\n",
       "    <tr>\n",
       "      <th>1</th>\n",
       "      <td>None</td>\n",
       "      <td>None</td>\n",
       "      <td>None</td>\n",
       "      <td>None</td>\n",
       "      <td>None</td>\n",
       "      <td>None</td>\n",
       "      <td>None</td>\n",
       "      <td>None</td>\n",
       "      <td>yes</td>\n",
       "      <td>None</td>\n",
       "      <td>...</td>\n",
       "      <td>None</td>\n",
       "      <td>None</td>\n",
       "      <td>None</td>\n",
       "      <td>38045298</td>\n",
       "      <td>1248455416</td>\n",
       "      <td>1</td>\n",
       "      <td>None</td>\n",
       "      <td>way</td>\n",
       "      <td>POLYGON ((-58.97992 -62.19402, -58.97985 -62.1...</td>\n",
       "      <td>NaN</td>\n",
       "    </tr>\n",
       "    <tr>\n",
       "      <th>2</th>\n",
       "      <td>None</td>\n",
       "      <td>None</td>\n",
       "      <td>None</td>\n",
       "      <td>None</td>\n",
       "      <td>None</td>\n",
       "      <td>None</td>\n",
       "      <td>None</td>\n",
       "      <td>None</td>\n",
       "      <td>yes</td>\n",
       "      <td>None</td>\n",
       "      <td>...</td>\n",
       "      <td>None</td>\n",
       "      <td>None</td>\n",
       "      <td>None</td>\n",
       "      <td>38045299</td>\n",
       "      <td>1248455418</td>\n",
       "      <td>1</td>\n",
       "      <td>None</td>\n",
       "      <td>way</td>\n",
       "      <td>POLYGON ((-58.98007 -62.19361, -58.98028 -62.1...</td>\n",
       "      <td>NaN</td>\n",
       "    </tr>\n",
       "    <tr>\n",
       "      <th>3</th>\n",
       "      <td>None</td>\n",
       "      <td>None</td>\n",
       "      <td>None</td>\n",
       "      <td>Refugium Nr. 1</td>\n",
       "      <td>None</td>\n",
       "      <td>None</td>\n",
       "      <td>None</td>\n",
       "      <td>None</td>\n",
       "      <td>yes</td>\n",
       "      <td>None</td>\n",
       "      <td>...</td>\n",
       "      <td>Polish Academy of Science</td>\n",
       "      <td>None</td>\n",
       "      <td>None</td>\n",
       "      <td>62202776</td>\n",
       "      <td>1363529321</td>\n",
       "      <td>4</td>\n",
       "      <td>{\"loc_name\":\"Refugium \\\"Demay\\\"\",\"name:en\":\"Re...</td>\n",
       "      <td>way</td>\n",
       "      <td>POLYGON ((-58.43868 -62.21666, -58.43844 -62.2...</td>\n",
       "      <td>NaN</td>\n",
       "    </tr>\n",
       "    <tr>\n",
       "      <th>4</th>\n",
       "      <td>None</td>\n",
       "      <td>None</td>\n",
       "      <td>None</td>\n",
       "      <td>Hala Agregatów</td>\n",
       "      <td>None</td>\n",
       "      <td>None</td>\n",
       "      <td>None</td>\n",
       "      <td>None</td>\n",
       "      <td>yes</td>\n",
       "      <td>None</td>\n",
       "      <td>...</td>\n",
       "      <td>Polish Academy of Science</td>\n",
       "      <td>None</td>\n",
       "      <td>None</td>\n",
       "      <td>62203192</td>\n",
       "      <td>1500727166</td>\n",
       "      <td>10</td>\n",
       "      <td>{\"generator:source\":\"fossil\",\"power\":\"generator\"}</td>\n",
       "      <td>way</td>\n",
       "      <td>POLYGON ((-58.47345 -62.16007, -58.47323 -62.1...</td>\n",
       "      <td>NaN</td>\n",
       "    </tr>\n",
       "  </tbody>\n",
       "</table>\n",
       "<p>5 rows × 29 columns</p>\n",
       "</div>"
      ],
      "text/plain": [
       "  addr:city addr:housenumber addr:postcode            name opening_hours  \\\n",
       "0      None             None          None            None          None   \n",
       "1      None             None          None            None          None   \n",
       "2      None             None          None            None          None   \n",
       "3      None             None          None  Refugium Nr. 1          None   \n",
       "4      None             None          None  Hala Agregatów          None   \n",
       "\n",
       "  operator   ref website building amenity  ...                     source  \\\n",
       "0     None  None    None      yes    None  ...                       None   \n",
       "1     None  None    None      yes    None  ...                       None   \n",
       "2     None  None    None      yes    None  ...                       None   \n",
       "3     None  None    None      yes    None  ...  Polish Academy of Science   \n",
       "4     None  None    None      yes    None  ...  Polish Academy of Science   \n",
       "\n",
       "  start_date wikipedia        id   timestamp version  \\\n",
       "0       None      None  38045288  1248455386       1   \n",
       "1       None      None  38045298  1248455416       1   \n",
       "2       None      None  38045299  1248455418       1   \n",
       "3       None      None  62202776  1363529321       4   \n",
       "4       None      None  62203192  1500727166      10   \n",
       "\n",
       "                                                tags osm_type  \\\n",
       "0                                               None      way   \n",
       "1                                               None      way   \n",
       "2                                               None      way   \n",
       "3  {\"loc_name\":\"Refugium \\\"Demay\\\"\",\"name:en\":\"Re...      way   \n",
       "4  {\"generator:source\":\"fossil\",\"power\":\"generator\"}      way   \n",
       "\n",
       "                                            geometry changeset  \n",
       "0  POLYGON ((-58.98151 -62.19375, -58.98088 -62.1...       NaN  \n",
       "1  POLYGON ((-58.97992 -62.19402, -58.97985 -62.1...       NaN  \n",
       "2  POLYGON ((-58.98007 -62.19361, -58.98028 -62.1...       NaN  \n",
       "3  POLYGON ((-58.43868 -62.21666, -58.43844 -62.2...       NaN  \n",
       "4  POLYGON ((-58.47345 -62.16007, -58.47323 -62.1...       NaN  \n",
       "\n",
       "[5 rows x 29 columns]"
      ]
     },
     "execution_count": 7,
     "metadata": {},
     "output_type": "execute_result"
    }
   ],
   "source": [
    "buildings.head()"
   ]
  },
  {
   "cell_type": "markdown",
   "id": "1e86bc0b-e13e-4cdb-8229-6fa1ea92aa3b",
   "metadata": {},
   "source": [
    "## working with the dataframe\n",
    "we will now try to work with the dataframe of buildings previously defined.\n",
    "And see if we can parse information obout it."
   ]
  },
  {
   "cell_type": "code",
   "execution_count": 8,
   "id": "8c31d6de-1b90-477f-b267-832dafbe7a69",
   "metadata": {},
   "outputs": [
    {
     "data": {
      "text/plain": [
       "addr:city                                                          None\n",
       "addr:housenumber                                                   None\n",
       "addr:postcode                                                      None\n",
       "name                                                               None\n",
       "opening_hours                                                      None\n",
       "operator                                                           None\n",
       "ref                                                                None\n",
       "website                                                            None\n",
       "building                                                            yes\n",
       "amenity                                                            None\n",
       "building:levels                                                    None\n",
       "building:material                                                  None\n",
       "building:min_level                                                 None\n",
       "craft                                                              None\n",
       "height                                                             None\n",
       "internet_access                                                    None\n",
       "landuse                                                            None\n",
       "office                                                             None\n",
       "shop                                                               None\n",
       "source                                                             None\n",
       "start_date                                                         None\n",
       "wikipedia                                                          None\n",
       "id                                                             38045288\n",
       "timestamp                                                    1248455386\n",
       "version                                                               1\n",
       "tags                                                               None\n",
       "osm_type                                                            way\n",
       "geometry              POLYGON ((-58.9815095 -62.1937506, -58.9808814...\n",
       "changeset                                                           NaN\n",
       "Name: 0, dtype: object"
      ]
     },
     "execution_count": 8,
     "metadata": {},
     "output_type": "execute_result"
    }
   ],
   "source": [
    "# get first row \n",
    "buildings.iloc[0]"
   ]
  },
  {
   "cell_type": "code",
   "execution_count": 9,
   "id": "ca5b369b",
   "metadata": {},
   "outputs": [],
   "source": [
    "# lets get the type of building, of the first row\n",
    "buildings[\"amenity\"].iloc[0]"
   ]
  },
  {
   "cell_type": "code",
   "execution_count": null,
   "id": "2b8caac0-38b6-4fd6-a09b-6dd05e066f56",
   "metadata": {},
   "outputs": [],
   "source": []
  }
 ],
 "metadata": {
  "kernelspec": {
   "display_name": "Python 3 (ipykernel)",
   "language": "python",
   "name": "python3"
  },
  "language_info": {
   "codemirror_mode": {
    "name": "ipython",
    "version": 3
   },
   "file_extension": ".py",
   "mimetype": "text/x-python",
   "name": "python",
   "nbconvert_exporter": "python",
   "pygments_lexer": "ipython3",
   "version": "3.11.0"
  }
 },
 "nbformat": 4,
 "nbformat_minor": 5
}
